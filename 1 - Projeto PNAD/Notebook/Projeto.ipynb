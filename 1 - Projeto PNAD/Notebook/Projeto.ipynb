{
 "cells": [
  {
   "cell_type": "markdown",
   "metadata": {},
   "source": [
    "# 1. Introdução "
   ]
  },
  {
   "cell_type": "markdown",
   "metadata": {
    "jp-MarkdownHeadingCollapsed": true,
    "tags": []
   },
   "source": [
    "### Pesquisa Nacional por Amostra de Domicílios - 2015\n",
    "\n",
    "A <b>Pesquisa Nacional por Amostra de Domicílios - PNAD</b> investiga anualmente, de forma permanente, características gerais da população, de educação, trabalho, rendimento e habitação e outras, com periodicidade variável, de acordo com as necessidades de informação para o país, como as características sobre migração, fecundidade, nupcialidade, saúde, segurança alimentar, entre outros temas. O levantamento dessas estatísticas constitui, ao longo dos 49 anos de realização da pesquisa, um importante instrumento para formulação, validação e avaliação de políticas orientadas para o desenvolvimento socioeconômico e a melhoria das condições de vida no Brasil."
   ]
  },
  {
   "cell_type": "code",
   "execution_count": 144,
   "metadata": {},
   "outputs": [],
   "source": [
    "import warnings\n",
    "warnings.filterwarnings(\"ignore\")"
   ]
  },
  {
   "cell_type": "markdown",
   "metadata": {},
   "source": [
    "### Variáveis utilizadas\n",
    "\n",
    "> ### Renda\n",
    "> ***\n",
    "\n",
    "Rendimento mensal do trabalho principal para pessoas de 10 anos ou mais de idade.\n",
    "\n",
    "> ### Idade\n",
    "> ***\n",
    "\n",
    "Idade do morador na data de referência em anos.\n",
    "\n",
    "> ### Altura (elaboração própria)\n",
    "> ***\n",
    "\n",
    "Altura do morador em metros.\n",
    "\n",
    "> ### UF\n",
    "> ***\n",
    "\n",
    "|Código|Descrição|\n",
    "|---|---|\n",
    "|11|Rondônia|\n",
    "|12|Acre|\n",
    "|13|Amazonas|\n",
    "|14|Roraima|\n",
    "|15|Pará|\n",
    "|16|Amapá|\n",
    "|17|Tocantins|\n",
    "|21|Maranhão|\n",
    "|22|Piauí|\n",
    "|23|Ceará|\n",
    "|24|Rio Grande do Norte|\n",
    "|25|Paraíba|\n",
    "|26|Pernambuco|\n",
    "|27|Alagoas|\n",
    "|28|Sergipe|\n",
    "|29|Bahia|\n",
    "|31|Minas Gerais|\n",
    "|32|Espírito Santo|\n",
    "|33|Rio de Janeiro|\n",
    "|35|São Paulo|\n",
    "|41|Paraná|\n",
    "|42|Santa Catarina|\n",
    "|43|Rio Grande do Sul|\n",
    "|50|Mato Grosso do Sul|\n",
    "|51|Mato Grosso|\n",
    "|52|Goiás|\n",
    "|53|Distrito Federal|\n",
    "\n",
    "> ### Sexo\t\n",
    "> ***\n",
    "\n",
    "|Código|Descrição|\n",
    "|---|---|\n",
    "|0|Masculino|\n",
    "|1|Feminino|\n",
    "\n",
    "> ### Anos de Estudo\n",
    "> ***\n",
    "\n",
    "|Código|Descrição|\n",
    "|---|---|\n",
    "|1|Sem instrução e menos de 1 ano|\n",
    "|2|1 ano|\n",
    "|3|2 anos|\n",
    "|4|3 anos|\n",
    "|5|4 anos|\n",
    "|6|5 anos|\n",
    "|7|6 anos|\n",
    "|8|7 anos|\n",
    "|9|8 anos|\n",
    "|10|9 anos|\n",
    "|11|10 anos|\n",
    "|12|11 anos|\n",
    "|13|12 anos|\n",
    "|14|13 anos|\n",
    "|15|14 anos|\n",
    "|16|15 anos ou mais|\n",
    "|17|Não determinados| \n",
    "||Não aplicável|\n",
    "\n",
    "> ### Cor\n",
    "> ***\n",
    "\n",
    "|Código|Descrição|\n",
    "|---|---|\n",
    "|0|Indígena|\n",
    "|2|Branca|\n",
    "|4|Preta|\n",
    "|6|Amarela|\n",
    "|8|Parda|\n",
    "|9|Sem declaração|"
   ]
  },
  {
   "cell_type": "markdown",
   "metadata": {},
   "source": [
    "* Dicionáros das variáveis"
   ]
  },
  {
   "cell_type": "code",
   "execution_count": 145,
   "metadata": {},
   "outputs": [],
   "source": [
    "sexo = {\n",
    "    0: 'Masculino', \n",
    "    1: 'Feminino'\n",
    "}\n",
    "cor = {\n",
    "    0: 'Indígena', \n",
    "    2: 'Branca', \n",
    "    4: 'Preta', \n",
    "    6: 'Amarela', \n",
    "    8: 'Parda', \n",
    "    9: 'Sem declaração'\n",
    "}\n",
    "anos_de_estudo = {\n",
    "    1: 'Sem instrução e menos de 1 ano', \n",
    "    2: '1 ano', \n",
    "    3: '2 anos', \n",
    "    4: '3 anos', \n",
    "    5: '4 anos', \n",
    "    6: '5 anos', \n",
    "    7: '6 anos', \n",
    "    8: '7 anos', \n",
    "    9: '8 anos', \n",
    "    10: '9 anos', \n",
    "    11: '10 anos', \n",
    "    12: '11 anos', \n",
    "    13: '12 anos', \n",
    "    14: '13 anos', \n",
    "    15: '14 anos', \n",
    "    16: '15 anos ou mais', \n",
    "    17: 'Não determinados'\n",
    "}\n",
    "uf = {\n",
    "    11: 'Rondônia', \n",
    "    12: 'Acre', \n",
    "    13: 'Amazonas', \n",
    "    14: 'Roraima', \n",
    "    15: 'Pará', \n",
    "    16: 'Amapá', \n",
    "    17: 'Tocantins', \n",
    "    21: 'Maranhão', \n",
    "    22: 'Piauí', \n",
    "    23: 'Ceará', \n",
    "    24: 'Rio Grande do Norte', \n",
    "    25: 'Paraíba', \n",
    "    26: 'Pernambuco', \n",
    "    27: 'Alagoas', \n",
    "    28: 'Sergipe', \n",
    "    29: 'Bahia', \n",
    "    31: 'Minas Gerais', \n",
    "    32: 'Espírito Santo', \n",
    "    33: 'Rio de Janeiro', \n",
    "    35: 'São Paulo', \n",
    "    41: 'Paraná', \n",
    "    42: 'Santa Catarina', \n",
    "    43: 'Rio Grande do Sul', \n",
    "    50: 'Mato Grosso do Sul', \n",
    "    51: 'Mato Grosso', \n",
    "    52: 'Goiás', \n",
    "    53: 'Distrito Federal'\n",
    "}"
   ]
  },
  {
   "cell_type": "markdown",
   "metadata": {},
   "source": [
    "Classes de renda:\n",
    "\n",
    "<b>A</b> ► Acima de 25 SM\n",
    "\n",
    "<b>B</b> ► De 15 a 25 SM\n",
    "\n",
    "<b>C</b> ► De 5 a 15 SM\n",
    "\n",
    "<b>D</b> ► De 2 a 5 SM\n",
    "\n",
    "<b>E</b> ► Até 2 SM"
   ]
  },
  {
   "cell_type": "markdown",
   "metadata": {},
   "source": [
    "----"
   ]
  },
  {
   "cell_type": "markdown",
   "metadata": {},
   "source": [
    "* Importando dados"
   ]
  },
  {
   "cell_type": "code",
   "execution_count": 146,
   "metadata": {},
   "outputs": [],
   "source": [
    "import pandas as pd\n",
    "import seaborn as sns\n",
    "import matplotlib.pyplot as plt\n",
    "import numpy as np\n",
    "sns.set(font_scale=1.2)\n",
    "sns.set_style('white')\n",
    "sns.set_palette(\"Blues_r\")\n",
    "import warnings\n",
    "warnings.filterwarnings(\"ignore\")"
   ]
  },
  {
   "cell_type": "code",
   "execution_count": 147,
   "metadata": {},
   "outputs": [
    {
     "data": {
      "text/html": [
       "<div>\n",
       "<style scoped>\n",
       "    .dataframe tbody tr th:only-of-type {\n",
       "        vertical-align: middle;\n",
       "    }\n",
       "\n",
       "    .dataframe tbody tr th {\n",
       "        vertical-align: top;\n",
       "    }\n",
       "\n",
       "    .dataframe thead th {\n",
       "        text-align: right;\n",
       "    }\n",
       "</style>\n",
       "<table border=\"1\" class=\"dataframe\">\n",
       "  <thead>\n",
       "    <tr style=\"text-align: right;\">\n",
       "      <th></th>\n",
       "      <th>UF</th>\n",
       "      <th>Sexo</th>\n",
       "      <th>Idade</th>\n",
       "      <th>Cor</th>\n",
       "      <th>Anos de Estudo</th>\n",
       "      <th>Renda</th>\n",
       "      <th>Altura</th>\n",
       "    </tr>\n",
       "  </thead>\n",
       "  <tbody>\n",
       "    <tr>\n",
       "      <th>0</th>\n",
       "      <td>11</td>\n",
       "      <td>0</td>\n",
       "      <td>23</td>\n",
       "      <td>8</td>\n",
       "      <td>12</td>\n",
       "      <td>800</td>\n",
       "      <td>1.603808</td>\n",
       "    </tr>\n",
       "    <tr>\n",
       "      <th>1</th>\n",
       "      <td>11</td>\n",
       "      <td>1</td>\n",
       "      <td>23</td>\n",
       "      <td>2</td>\n",
       "      <td>12</td>\n",
       "      <td>1150</td>\n",
       "      <td>1.739790</td>\n",
       "    </tr>\n",
       "    <tr>\n",
       "      <th>2</th>\n",
       "      <td>11</td>\n",
       "      <td>1</td>\n",
       "      <td>35</td>\n",
       "      <td>8</td>\n",
       "      <td>15</td>\n",
       "      <td>880</td>\n",
       "      <td>1.760444</td>\n",
       "    </tr>\n",
       "    <tr>\n",
       "      <th>3</th>\n",
       "      <td>11</td>\n",
       "      <td>0</td>\n",
       "      <td>46</td>\n",
       "      <td>2</td>\n",
       "      <td>6</td>\n",
       "      <td>3500</td>\n",
       "      <td>1.783158</td>\n",
       "    </tr>\n",
       "    <tr>\n",
       "      <th>4</th>\n",
       "      <td>11</td>\n",
       "      <td>1</td>\n",
       "      <td>47</td>\n",
       "      <td>8</td>\n",
       "      <td>9</td>\n",
       "      <td>150</td>\n",
       "      <td>1.690631</td>\n",
       "    </tr>\n",
       "  </tbody>\n",
       "</table>\n",
       "</div>"
      ],
      "text/plain": [
       "   UF  Sexo  Idade  Cor  Anos de Estudo  Renda    Altura\n",
       "0  11     0     23    8              12    800  1.603808\n",
       "1  11     1     23    2              12   1150  1.739790\n",
       "2  11     1     35    8              15    880  1.760444\n",
       "3  11     0     46    2               6   3500  1.783158\n",
       "4  11     1     47    8               9    150  1.690631"
      ]
     },
     "execution_count": 147,
     "metadata": {},
     "output_type": "execute_result"
    }
   ],
   "source": [
    "dados = pd.read_csv('../Data/dados.csv')\n",
    "dados.head()"
   ]
  },
  {
   "cell_type": "markdown",
   "metadata": {},
   "source": [
    "# 2. Pré-processamento dos dados"
   ]
  },
  {
   "cell_type": "markdown",
   "metadata": {},
   "source": [
    "* Renomeando colunas\n"
   ]
  },
  {
   "cell_type": "code",
   "execution_count": 148,
   "metadata": {},
   "outputs": [
    {
     "data": {
      "text/html": [
       "<div>\n",
       "<style scoped>\n",
       "    .dataframe tbody tr th:only-of-type {\n",
       "        vertical-align: middle;\n",
       "    }\n",
       "\n",
       "    .dataframe tbody tr th {\n",
       "        vertical-align: top;\n",
       "    }\n",
       "\n",
       "    .dataframe thead th {\n",
       "        text-align: right;\n",
       "    }\n",
       "</style>\n",
       "<table border=\"1\" class=\"dataframe\">\n",
       "  <thead>\n",
       "    <tr style=\"text-align: right;\">\n",
       "      <th></th>\n",
       "      <th>UF</th>\n",
       "      <th>Sexo</th>\n",
       "      <th>Idade</th>\n",
       "      <th>Cor</th>\n",
       "      <th>Anos de Estudo</th>\n",
       "      <th>Renda</th>\n",
       "      <th>Altura</th>\n",
       "    </tr>\n",
       "  </thead>\n",
       "  <tbody>\n",
       "    <tr>\n",
       "      <th>0</th>\n",
       "      <td>Rondônia</td>\n",
       "      <td>Masculino</td>\n",
       "      <td>23</td>\n",
       "      <td>Parda</td>\n",
       "      <td>12</td>\n",
       "      <td>800</td>\n",
       "      <td>1.603808</td>\n",
       "    </tr>\n",
       "    <tr>\n",
       "      <th>1</th>\n",
       "      <td>Rondônia</td>\n",
       "      <td>Feminino</td>\n",
       "      <td>23</td>\n",
       "      <td>Branca</td>\n",
       "      <td>12</td>\n",
       "      <td>1150</td>\n",
       "      <td>1.739790</td>\n",
       "    </tr>\n",
       "    <tr>\n",
       "      <th>2</th>\n",
       "      <td>Rondônia</td>\n",
       "      <td>Feminino</td>\n",
       "      <td>35</td>\n",
       "      <td>Parda</td>\n",
       "      <td>15</td>\n",
       "      <td>880</td>\n",
       "      <td>1.760444</td>\n",
       "    </tr>\n",
       "    <tr>\n",
       "      <th>3</th>\n",
       "      <td>Rondônia</td>\n",
       "      <td>Masculino</td>\n",
       "      <td>46</td>\n",
       "      <td>Branca</td>\n",
       "      <td>6</td>\n",
       "      <td>3500</td>\n",
       "      <td>1.783158</td>\n",
       "    </tr>\n",
       "    <tr>\n",
       "      <th>4</th>\n",
       "      <td>Rondônia</td>\n",
       "      <td>Feminino</td>\n",
       "      <td>47</td>\n",
       "      <td>Parda</td>\n",
       "      <td>9</td>\n",
       "      <td>150</td>\n",
       "      <td>1.690631</td>\n",
       "    </tr>\n",
       "    <tr>\n",
       "      <th>...</th>\n",
       "      <td>...</td>\n",
       "      <td>...</td>\n",
       "      <td>...</td>\n",
       "      <td>...</td>\n",
       "      <td>...</td>\n",
       "      <td>...</td>\n",
       "      <td>...</td>\n",
       "    </tr>\n",
       "    <tr>\n",
       "      <th>76835</th>\n",
       "      <td>Distrito Federal</td>\n",
       "      <td>Feminino</td>\n",
       "      <td>46</td>\n",
       "      <td>Branca</td>\n",
       "      <td>11</td>\n",
       "      <td>812</td>\n",
       "      <td>1.687030</td>\n",
       "    </tr>\n",
       "    <tr>\n",
       "      <th>76836</th>\n",
       "      <td>Distrito Federal</td>\n",
       "      <td>Masculino</td>\n",
       "      <td>30</td>\n",
       "      <td>Preta</td>\n",
       "      <td>7</td>\n",
       "      <td>1500</td>\n",
       "      <td>1.792934</td>\n",
       "    </tr>\n",
       "    <tr>\n",
       "      <th>76837</th>\n",
       "      <td>Distrito Federal</td>\n",
       "      <td>Masculino</td>\n",
       "      <td>32</td>\n",
       "      <td>Parda</td>\n",
       "      <td>12</td>\n",
       "      <td>1300</td>\n",
       "      <td>1.830587</td>\n",
       "    </tr>\n",
       "    <tr>\n",
       "      <th>76838</th>\n",
       "      <td>Distrito Federal</td>\n",
       "      <td>Masculino</td>\n",
       "      <td>57</td>\n",
       "      <td>Parda</td>\n",
       "      <td>4</td>\n",
       "      <td>1500</td>\n",
       "      <td>1.726344</td>\n",
       "    </tr>\n",
       "    <tr>\n",
       "      <th>76839</th>\n",
       "      <td>Distrito Federal</td>\n",
       "      <td>Masculino</td>\n",
       "      <td>38</td>\n",
       "      <td>Parda</td>\n",
       "      <td>4</td>\n",
       "      <td>900</td>\n",
       "      <td>1.658305</td>\n",
       "    </tr>\n",
       "  </tbody>\n",
       "</table>\n",
       "<p>76840 rows × 7 columns</p>\n",
       "</div>"
      ],
      "text/plain": [
       "                     UF       Sexo  Idade     Cor  Anos de Estudo  Renda  \\\n",
       "0              Rondônia  Masculino     23   Parda              12    800   \n",
       "1              Rondônia   Feminino     23  Branca              12   1150   \n",
       "2              Rondônia   Feminino     35   Parda              15    880   \n",
       "3              Rondônia  Masculino     46  Branca               6   3500   \n",
       "4              Rondônia   Feminino     47   Parda               9    150   \n",
       "...                 ...        ...    ...     ...             ...    ...   \n",
       "76835  Distrito Federal   Feminino     46  Branca              11    812   \n",
       "76836  Distrito Federal  Masculino     30   Preta               7   1500   \n",
       "76837  Distrito Federal  Masculino     32   Parda              12   1300   \n",
       "76838  Distrito Federal  Masculino     57   Parda               4   1500   \n",
       "76839  Distrito Federal  Masculino     38   Parda               4    900   \n",
       "\n",
       "         Altura  \n",
       "0      1.603808  \n",
       "1      1.739790  \n",
       "2      1.760444  \n",
       "3      1.783158  \n",
       "4      1.690631  \n",
       "...         ...  \n",
       "76835  1.687030  \n",
       "76836  1.792934  \n",
       "76837  1.830587  \n",
       "76838  1.726344  \n",
       "76839  1.658305  \n",
       "\n",
       "[76840 rows x 7 columns]"
      ]
     },
     "execution_count": 148,
     "metadata": {},
     "output_type": "execute_result"
    }
   ],
   "source": [
    "#renomeando as colunas\n",
    "dados = dados.replace({'UF': uf,'Sexo' : sexo, 'Cor' : cor})\n",
    "dados"
   ]
  },
  {
   "cell_type": "markdown",
   "metadata": {},
   "source": [
    "* Obtendo informações dos dados"
   ]
  },
  {
   "cell_type": "code",
   "execution_count": 149,
   "metadata": {},
   "outputs": [
    {
     "name": "stdout",
     "output_type": "stream",
     "text": [
      "<class 'pandas.core.frame.DataFrame'>\n",
      "RangeIndex: 76840 entries, 0 to 76839\n",
      "Data columns (total 7 columns):\n",
      " #   Column          Non-Null Count  Dtype  \n",
      "---  ------          --------------  -----  \n",
      " 0   UF              76840 non-null  object \n",
      " 1   Sexo            76840 non-null  object \n",
      " 2   Idade           76840 non-null  int64  \n",
      " 3   Cor             76840 non-null  object \n",
      " 4   Anos de Estudo  76840 non-null  int64  \n",
      " 5   Renda           76840 non-null  int64  \n",
      " 6   Altura          76840 non-null  float64\n",
      "dtypes: float64(1), int64(3), object(3)\n",
      "memory usage: 4.1+ MB\n"
     ]
    }
   ],
   "source": [
    "#exibindo informações dos dados\n",
    "dados.info()"
   ]
  },
  {
   "cell_type": "markdown",
   "metadata": {},
   "source": [
    "* Observação: A coluna altura foi removida, pois ela tinha sido inserida afim de testes estatísticos.\n"
   ]
  },
  {
   "cell_type": "code",
   "execution_count": 150,
   "metadata": {},
   "outputs": [],
   "source": [
    "#Apagando coluna altura\n",
    "dados.drop(columns=['Altura'], inplace=True)"
   ]
  },
  {
   "cell_type": "markdown",
   "metadata": {},
   "source": [
    "* Definindo os valores em reais\n",
    "Usand dados.Renda.min(), e max() para pegar o menor valor e o maior."
   ]
  },
  {
   "cell_type": "code",
   "execution_count": 151,
   "metadata": {},
   "outputs": [
    {
     "data": {
      "text/plain": [
       "[0, 1576, 3940, 11820, 19700, 200000]"
      ]
     },
     "execution_count": 151,
     "metadata": {},
     "output_type": "execute_result"
    }
   ],
   "source": [
    "#criando classe de acordo com o salário\n",
    "classe = [\n",
    "    dados.Renda.min(),\n",
    "    2*788,\n",
    "    5*788,\n",
    "    15*788,\n",
    "    25*788,\n",
    "    dados.Renda.max()\n",
    "]\n",
    "classe"
   ]
  },
  {
   "cell_type": "markdown",
   "metadata": {},
   "source": [
    "* Definindo labels"
   ]
  },
  {
   "cell_type": "code",
   "execution_count": 152,
   "metadata": {},
   "outputs": [],
   "source": [
    "#Labels\n",
    "labels = ['E', 'D', 'C', 'B', 'A']"
   ]
  },
  {
   "cell_type": "code",
   "execution_count": 153,
   "metadata": {},
   "outputs": [
    {
     "data": {
      "text/plain": [
       "0        E\n",
       "1        E\n",
       "2        E\n",
       "3        D\n",
       "4        E\n",
       "        ..\n",
       "76835    E\n",
       "76836    E\n",
       "76837    E\n",
       "76838    E\n",
       "76839    E\n",
       "Name: Renda, Length: 76840, dtype: category\n",
       "Categories (5, object): ['E' < 'D' < 'C' < 'B' < 'A']"
      ]
     },
     "execution_count": 153,
     "metadata": {},
     "output_type": "execute_result"
    }
   ],
   "source": [
    "#Criando tabela de frequência das classes\n",
    "frequencias = pd.cut(x = dados.Renda,\n",
    "bins = classe,\n",
    "labels= labels,\n",
    "include_lowest= True) #inclui o menor valor.\n",
    "frequencias"
   ]
  },
  {
   "cell_type": "markdown",
   "metadata": {},
   "source": [
    "* Exibindo a quantidade por classe"
   ]
  },
  {
   "cell_type": "code",
   "execution_count": 154,
   "metadata": {},
   "outputs": [
    {
     "data": {
      "text/plain": [
       "E    49755\n",
       "D    18602\n",
       "C     7241\n",
       "B      822\n",
       "A      420\n",
       "Name: Renda, dtype: int64"
      ]
     },
     "execution_count": 154,
     "metadata": {},
     "output_type": "execute_result"
    }
   ],
   "source": [
    "#Agrupando as frequências\n",
    "frequencias = pd.value_counts(pd.cut(x = dados.Renda,\n",
    "                            bins = classe,\n",
    "                            labels= labels,\n",
    "                            include_lowest= True)) #inclui o menor valor.\n",
    "frequencias"
   ]
  },
  {
   "cell_type": "code",
   "execution_count": 155,
   "metadata": {},
   "outputs": [
    {
     "data": {
      "text/html": [
       "<div>\n",
       "<style scoped>\n",
       "    .dataframe tbody tr th:only-of-type {\n",
       "        vertical-align: middle;\n",
       "    }\n",
       "\n",
       "    .dataframe tbody tr th {\n",
       "        vertical-align: top;\n",
       "    }\n",
       "\n",
       "    .dataframe thead th {\n",
       "        text-align: right;\n",
       "    }\n",
       "</style>\n",
       "<table border=\"1\" class=\"dataframe\">\n",
       "  <thead>\n",
       "    <tr style=\"text-align: right;\">\n",
       "      <th></th>\n",
       "      <th>Renda</th>\n",
       "    </tr>\n",
       "  </thead>\n",
       "  <tbody>\n",
       "    <tr>\n",
       "      <th>E</th>\n",
       "      <td>49755</td>\n",
       "    </tr>\n",
       "    <tr>\n",
       "      <th>D</th>\n",
       "      <td>18602</td>\n",
       "    </tr>\n",
       "    <tr>\n",
       "      <th>C</th>\n",
       "      <td>7241</td>\n",
       "    </tr>\n",
       "    <tr>\n",
       "      <th>B</th>\n",
       "      <td>822</td>\n",
       "    </tr>\n",
       "    <tr>\n",
       "      <th>A</th>\n",
       "      <td>420</td>\n",
       "    </tr>\n",
       "  </tbody>\n",
       "</table>\n",
       "</div>"
      ],
      "text/plain": [
       "   Renda\n",
       "E  49755\n",
       "D  18602\n",
       "C   7241\n",
       "B    822\n",
       "A    420"
      ]
     },
     "execution_count": 155,
     "metadata": {},
     "output_type": "execute_result"
    }
   ],
   "source": [
    "#Exibindo dataframe frequência\n",
    "frequencias = pd.DataFrame(frequencias)\n",
    "frequencias"
   ]
  },
  {
   "cell_type": "markdown",
   "metadata": {},
   "source": [
    "* Construindo tabela de percentuais"
   ]
  },
  {
   "cell_type": "code",
   "execution_count": 156,
   "metadata": {},
   "outputs": [
    {
     "data": {
      "text/plain": [
       "E    64.751432\n",
       "D    24.208745\n",
       "C     9.423477\n",
       "B     1.069755\n",
       "A     0.546590\n",
       "Name: Renda, dtype: float64"
      ]
     },
     "execution_count": 156,
     "metadata": {},
     "output_type": "execute_result"
    }
   ],
   "source": [
    "#Construção da taxa percentual em cada classe monetária\n",
    "percentual = pd.value_counts(pd.cut(x = dados.Renda,\n",
    "bins = classe,\n",
    "labels= labels,\n",
    "include_lowest= True),\n",
    "normalize= True) * 100 \n",
    "\n",
    "percentual"
   ]
  },
  {
   "cell_type": "code",
   "execution_count": 157,
   "metadata": {},
   "outputs": [
    {
     "data": {
      "text/html": [
       "<div>\n",
       "<style scoped>\n",
       "    .dataframe tbody tr th:only-of-type {\n",
       "        vertical-align: middle;\n",
       "    }\n",
       "\n",
       "    .dataframe tbody tr th {\n",
       "        vertical-align: top;\n",
       "    }\n",
       "\n",
       "    .dataframe thead th {\n",
       "        text-align: right;\n",
       "    }\n",
       "</style>\n",
       "<table border=\"1\" class=\"dataframe\">\n",
       "  <thead>\n",
       "    <tr style=\"text-align: right;\">\n",
       "      <th></th>\n",
       "      <th>Renda</th>\n",
       "    </tr>\n",
       "  </thead>\n",
       "  <tbody>\n",
       "    <tr>\n",
       "      <th>E</th>\n",
       "      <td>64.751432</td>\n",
       "    </tr>\n",
       "    <tr>\n",
       "      <th>D</th>\n",
       "      <td>24.208745</td>\n",
       "    </tr>\n",
       "    <tr>\n",
       "      <th>C</th>\n",
       "      <td>9.423477</td>\n",
       "    </tr>\n",
       "    <tr>\n",
       "      <th>B</th>\n",
       "      <td>1.069755</td>\n",
       "    </tr>\n",
       "    <tr>\n",
       "      <th>A</th>\n",
       "      <td>0.546590</td>\n",
       "    </tr>\n",
       "  </tbody>\n",
       "</table>\n",
       "</div>"
      ],
      "text/plain": [
       "       Renda\n",
       "E  64.751432\n",
       "D  24.208745\n",
       "C   9.423477\n",
       "B   1.069755\n",
       "A   0.546590"
      ]
     },
     "execution_count": 157,
     "metadata": {},
     "output_type": "execute_result"
    }
   ],
   "source": [
    "#Exibindo percentual\n",
    "percentual = pd.DataFrame(percentual)\n",
    "percentual"
   ]
  },
  {
   "cell_type": "code",
   "execution_count": 158,
   "metadata": {},
   "outputs": [
    {
     "data": {
      "text/html": [
       "<div>\n",
       "<style scoped>\n",
       "    .dataframe tbody tr th:only-of-type {\n",
       "        vertical-align: middle;\n",
       "    }\n",
       "\n",
       "    .dataframe tbody tr th {\n",
       "        vertical-align: top;\n",
       "    }\n",
       "\n",
       "    .dataframe thead th {\n",
       "        text-align: right;\n",
       "    }\n",
       "</style>\n",
       "<table border=\"1\" class=\"dataframe\">\n",
       "  <thead>\n",
       "    <tr style=\"text-align: right;\">\n",
       "      <th></th>\n",
       "      <th>Quantidade (%)</th>\n",
       "    </tr>\n",
       "  </thead>\n",
       "  <tbody>\n",
       "    <tr>\n",
       "      <th>E</th>\n",
       "      <td>64.751432</td>\n",
       "    </tr>\n",
       "    <tr>\n",
       "      <th>D</th>\n",
       "      <td>24.208745</td>\n",
       "    </tr>\n",
       "    <tr>\n",
       "      <th>C</th>\n",
       "      <td>9.423477</td>\n",
       "    </tr>\n",
       "    <tr>\n",
       "      <th>B</th>\n",
       "      <td>1.069755</td>\n",
       "    </tr>\n",
       "    <tr>\n",
       "      <th>A</th>\n",
       "      <td>0.546590</td>\n",
       "    </tr>\n",
       "  </tbody>\n",
       "</table>\n",
       "</div>"
      ],
      "text/plain": [
       "    Quantidade (%)\n",
       "E        64.751432\n",
       "D        24.208745\n",
       "C         9.423477\n",
       "B         1.069755\n",
       "A         0.546590"
      ]
     },
     "execution_count": 158,
     "metadata": {},
     "output_type": "execute_result"
    }
   ],
   "source": [
    "#Renomeando a coluna\n",
    "percentual.rename(columns= {'Renda' : ' Quantidade (%)'})"
   ]
  },
  {
   "cell_type": "code",
   "execution_count": 159,
   "metadata": {},
   "outputs": [],
   "source": [
    "#Inserindo um index no dataframe\n",
    "percentual.reset_index(inplace=True)\n",
    "percentual.rename(columns={\"index\":\"Classes\"}, inplace =True)"
   ]
  },
  {
   "cell_type": "code",
   "execution_count": 160,
   "metadata": {},
   "outputs": [
    {
     "data": {
      "text/html": [
       "<div>\n",
       "<style scoped>\n",
       "    .dataframe tbody tr th:only-of-type {\n",
       "        vertical-align: middle;\n",
       "    }\n",
       "\n",
       "    .dataframe tbody tr th {\n",
       "        vertical-align: top;\n",
       "    }\n",
       "\n",
       "    .dataframe thead th {\n",
       "        text-align: right;\n",
       "    }\n",
       "</style>\n",
       "<table border=\"1\" class=\"dataframe\">\n",
       "  <thead>\n",
       "    <tr style=\"text-align: right;\">\n",
       "      <th></th>\n",
       "      <th>Classes</th>\n",
       "      <th>Renda</th>\n",
       "    </tr>\n",
       "  </thead>\n",
       "  <tbody>\n",
       "    <tr>\n",
       "      <th>0</th>\n",
       "      <td>E</td>\n",
       "      <td>64.751432</td>\n",
       "    </tr>\n",
       "    <tr>\n",
       "      <th>1</th>\n",
       "      <td>D</td>\n",
       "      <td>24.208745</td>\n",
       "    </tr>\n",
       "    <tr>\n",
       "      <th>2</th>\n",
       "      <td>C</td>\n",
       "      <td>9.423477</td>\n",
       "    </tr>\n",
       "    <tr>\n",
       "      <th>3</th>\n",
       "      <td>B</td>\n",
       "      <td>1.069755</td>\n",
       "    </tr>\n",
       "    <tr>\n",
       "      <th>4</th>\n",
       "      <td>A</td>\n",
       "      <td>0.546590</td>\n",
       "    </tr>\n",
       "  </tbody>\n",
       "</table>\n",
       "</div>"
      ],
      "text/plain": [
       "  Classes      Renda\n",
       "0       E  64.751432\n",
       "1       D  24.208745\n",
       "2       C   9.423477\n",
       "3       B   1.069755\n",
       "4       A   0.546590"
      ]
     },
     "execution_count": 160,
     "metadata": {},
     "output_type": "execute_result"
    }
   ],
   "source": [
    "#Exibindo o dataframe final\n",
    "percentual"
   ]
  },
  {
   "cell_type": "markdown",
   "metadata": {},
   "source": [
    "----"
   ]
  },
  {
   "cell_type": "markdown",
   "metadata": {},
   "source": [
    "# 3. Análise Exploratória dos Dados"
   ]
  },
  {
   "cell_type": "markdown",
   "metadata": {},
   "source": [
    "* Criando uma função de gráfico de barras para facilitar a plotagem."
   ]
  },
  {
   "cell_type": "code",
   "execution_count": 161,
   "metadata": {},
   "outputs": [],
   "source": [
    "#Função do gráfico de barras\n",
    "def barplotfunc(*args, title, ylabel, **kwargs):\n",
    "    plt.figure(figsize=(12,8))\n",
    "    ax = sns.barplot(*args, **kwargs)\n",
    "    ax.set_title(title, fontsize = 18, loc='left')\n",
    "    ax.set_ylabel(ylabel)\n",
    "    plt.show()\n",
    "    return ax"
   ]
  },
  {
   "cell_type": "code",
   "execution_count": 162,
   "metadata": {},
   "outputs": [],
   "source": [
    "#Função do boxplot\n",
    "def outlierfunc(*args, title, ylabel, **kwargs):\n",
    "    plt.figure(figsize=(12,8))\n",
    "    ax = sns.boxplot(*args, **kwargs)\n",
    "    ax.set_title(title, fontsize = 18, loc='left')\n",
    "    ax.set_ylabel(ylabel)\n",
    "    plt.show()\n",
    "    return ax"
   ]
  },
  {
   "cell_type": "markdown",
   "metadata": {},
   "source": [
    "### 3.1 Explorando as Rendas"
   ]
  },
  {
   "cell_type": "markdown",
   "metadata": {},
   "source": [
    "* Renda máxima dos dados"
   ]
  },
  {
   "cell_type": "code",
   "execution_count": 163,
   "metadata": {},
   "outputs": [
    {
     "data": {
      "text/plain": [
       "200000"
      ]
     },
     "execution_count": 163,
     "metadata": {},
     "output_type": "execute_result"
    }
   ],
   "source": [
    "#Exibindo renda máxima do dataframe geral\n",
    "dados.Renda.max()"
   ]
  },
  {
   "cell_type": "markdown",
   "metadata": {},
   "source": [
    "* Renda mínima dos dados"
   ]
  },
  {
   "cell_type": "code",
   "execution_count": 164,
   "metadata": {},
   "outputs": [
    {
     "data": {
      "text/plain": [
       "0"
      ]
     },
     "execution_count": 164,
     "metadata": {},
     "output_type": "execute_result"
    }
   ],
   "source": [
    "#Renda miníma\n",
    "dados.Renda.min()"
   ]
  },
  {
   "cell_type": "markdown",
   "metadata": {},
   "source": [
    "* Distribuição das classes em porcentagem   "
   ]
  },
  {
   "cell_type": "code",
   "execution_count": 165,
   "metadata": {},
   "outputs": [
    {
     "data": {
      "text/html": [
       "<div>\n",
       "<style scoped>\n",
       "    .dataframe tbody tr th:only-of-type {\n",
       "        vertical-align: middle;\n",
       "    }\n",
       "\n",
       "    .dataframe tbody tr th {\n",
       "        vertical-align: top;\n",
       "    }\n",
       "\n",
       "    .dataframe thead th {\n",
       "        text-align: right;\n",
       "    }\n",
       "</style>\n",
       "<table border=\"1\" class=\"dataframe\">\n",
       "  <thead>\n",
       "    <tr style=\"text-align: right;\">\n",
       "      <th></th>\n",
       "      <th>Classes</th>\n",
       "      <th>Renda</th>\n",
       "    </tr>\n",
       "  </thead>\n",
       "  <tbody>\n",
       "    <tr>\n",
       "      <th>0</th>\n",
       "      <td>E</td>\n",
       "      <td>64.751432</td>\n",
       "    </tr>\n",
       "    <tr>\n",
       "      <th>1</th>\n",
       "      <td>D</td>\n",
       "      <td>24.208745</td>\n",
       "    </tr>\n",
       "    <tr>\n",
       "      <th>2</th>\n",
       "      <td>C</td>\n",
       "      <td>9.423477</td>\n",
       "    </tr>\n",
       "    <tr>\n",
       "      <th>3</th>\n",
       "      <td>B</td>\n",
       "      <td>1.069755</td>\n",
       "    </tr>\n",
       "    <tr>\n",
       "      <th>4</th>\n",
       "      <td>A</td>\n",
       "      <td>0.546590</td>\n",
       "    </tr>\n",
       "  </tbody>\n",
       "</table>\n",
       "</div>"
      ],
      "text/plain": [
       "  Classes      Renda\n",
       "0       E  64.751432\n",
       "1       D  24.208745\n",
       "2       C   9.423477\n",
       "3       B   1.069755\n",
       "4       A   0.546590"
      ]
     },
     "execution_count": 165,
     "metadata": {},
     "output_type": "execute_result"
    }
   ],
   "source": [
    "#Distribuição das classes \n",
    "percentual"
   ]
  },
  {
   "cell_type": "code",
   "execution_count": 166,
   "metadata": {},
   "outputs": [
    {
     "data": {
      "image/png": "[encoded data removed]",
      "text/plain": [
       "<Figure size 864x576 with 1 Axes>"
      ]
     },
     "metadata": {},
     "output_type": "display_data"
    }
   ],
   "source": [
    "#Plotando a frequência de cada classe\n",
    "_ =barplotfunc(data=percentual, x='Classes', y='Renda', title='Distribuição de frequência de renda',ylabel='Percentual (%)')"
   ]
  },
  {
   "cell_type": "markdown",
   "metadata": {},
   "source": [
    "> **Insight**: Como fica claro, infelizmente, a classe mais populosa é a E. Lembrando que a classe é tem renda de até **2 salários mínimos.**"
   ]
  },
  {
   "cell_type": "markdown",
   "metadata": {},
   "source": [
    "* Visualizando a Renda"
   ]
  },
  {
   "cell_type": "code",
   "execution_count": 167,
   "metadata": {},
   "outputs": [
    {
     "data": {
      "image/png": "[encoded data removed]",
      "text/plain": [
       "<Figure size 864x576 with 1 Axes>"
      ]
     },
     "metadata": {},
     "output_type": "display_data"
    }
   ],
   "source": [
    "#Plotando boxplot dos dados gerais sobre a renda\n",
    "_ = outlierfunc(data=dados, x='Renda', ylabel=None, title=\"Analise da Renda\")"
   ]
  },
  {
   "cell_type": "markdown",
   "metadata": {},
   "source": [
    "> Há possíveis outliers, mas como se trata de renda, vamos filtrar para um valor menor e obter uma melhor visualização."
   ]
  },
  {
   "cell_type": "markdown",
   "metadata": {},
   "source": [
    "* Identificando os quartis"
   ]
  },
  {
   "cell_type": "code",
   "execution_count": 168,
   "metadata": {},
   "outputs": [],
   "source": [
    "#Criando intervalos\n",
    "Q1 = dados.Renda.quantile(0.25)\n",
    "Q2 = dados.Renda.quantile(0.50)\n",
    "Q3 = dados.Renda.quantile(0.75)\n",
    "\n",
    "IQQ = Q3 - Q1\n",
    "limite_inferior = Q1 - 1.5 * IQQ\n",
    "limite_superior = Q3 + 1.5 * IQQ"
   ]
  },
  {
   "cell_type": "code",
   "execution_count": 169,
   "metadata": {},
   "outputs": [
    {
     "name": "stdout",
     "output_type": "stream",
     "text": [
      "788.0 1200.0 2000.0\n"
     ]
    }
   ],
   "source": [
    "#Exibindo intervalos\n",
    "print(Q1,Q2,Q3)"
   ]
  },
  {
   "cell_type": "code",
   "execution_count": 170,
   "metadata": {},
   "outputs": [
    {
     "data": {
      "text/plain": [
       "3818.0"
      ]
     },
     "execution_count": 170,
     "metadata": {},
     "output_type": "execute_result"
    }
   ],
   "source": [
    "#Printando limite superior\n",
    "limite_superior"
   ]
  },
  {
   "cell_type": "markdown",
   "metadata": {},
   "source": [
    "> **Insight**: Analisando os quartis: <br>\n",
    "> * 25% da polulação ganha até  788,00;\n",
    "> * 50% até 1.200,00;\n",
    "> * 75% até 2.000,00"
   ]
  },
  {
   "cell_type": "markdown",
   "metadata": {},
   "source": [
    "> **Insitght**: Observa-se que, no ano dde 2015, acima de **R$ 3.818,00** já são valores 'descrepantes' para a sociedade brasileira."
   ]
  },
  {
   "cell_type": "markdown",
   "metadata": {},
   "source": [
    "----\n"
   ]
  },
  {
   "cell_type": "markdown",
   "metadata": {},
   "source": [
    "### 3.2 Analisando Renda e Sexo.\n"
   ]
  },
  {
   "cell_type": "markdown",
   "metadata": {},
   "source": [
    "Objetivo : Separar as rendas de R$ 3.818,00 para baixo e para cima e exploarar analises baseando no sexo."
   ]
  },
  {
   "cell_type": "markdown",
   "metadata": {},
   "source": [
    "* Construindo dataframe com renda de R$ 3.818,00 ou menos"
   ]
  },
  {
   "cell_type": "code",
   "execution_count": 171,
   "metadata": {},
   "outputs": [],
   "source": [
    "#Criando dataframe com renda inferior ao limite\n",
    "dfRendamenor = dados.query(\"Renda <=3818\").groupby([\"Sexo\", \"Cor\"]).Renda.mean().reset_index()\n",
    "dfRendamenor = pd.DataFrame(dfRendamenor)"
   ]
  },
  {
   "cell_type": "code",
   "execution_count": 172,
   "metadata": {},
   "outputs": [
    {
     "data": {
      "text/html": [
       "<div>\n",
       "<style scoped>\n",
       "    .dataframe tbody tr th:only-of-type {\n",
       "        vertical-align: middle;\n",
       "    }\n",
       "\n",
       "    .dataframe tbody tr th {\n",
       "        vertical-align: top;\n",
       "    }\n",
       "\n",
       "    .dataframe thead th {\n",
       "        text-align: right;\n",
       "    }\n",
       "</style>\n",
       "<table border=\"1\" class=\"dataframe\">\n",
       "  <thead>\n",
       "    <tr style=\"text-align: right;\">\n",
       "      <th></th>\n",
       "      <th>Sexo</th>\n",
       "      <th>Cor</th>\n",
       "      <th>Renda</th>\n",
       "    </tr>\n",
       "  </thead>\n",
       "  <tbody>\n",
       "    <tr>\n",
       "      <th>0</th>\n",
       "      <td>Feminino</td>\n",
       "      <td>Amarela</td>\n",
       "      <td>1418.670330</td>\n",
       "    </tr>\n",
       "    <tr>\n",
       "      <th>1</th>\n",
       "      <td>Feminino</td>\n",
       "      <td>Branca</td>\n",
       "      <td>1248.056715</td>\n",
       "    </tr>\n",
       "    <tr>\n",
       "      <th>2</th>\n",
       "      <td>Feminino</td>\n",
       "      <td>Indígena</td>\n",
       "      <td>872.075269</td>\n",
       "    </tr>\n",
       "    <tr>\n",
       "      <th>3</th>\n",
       "      <td>Feminino</td>\n",
       "      <td>Parda</td>\n",
       "      <td>920.138728</td>\n",
       "    </tr>\n",
       "    <tr>\n",
       "      <th>4</th>\n",
       "      <td>Feminino</td>\n",
       "      <td>Preta</td>\n",
       "      <td>945.759670</td>\n",
       "    </tr>\n",
       "    <tr>\n",
       "      <th>5</th>\n",
       "      <td>Masculino</td>\n",
       "      <td>Amarela</td>\n",
       "      <td>1799.713287</td>\n",
       "    </tr>\n",
       "    <tr>\n",
       "      <th>6</th>\n",
       "      <td>Masculino</td>\n",
       "      <td>Branca</td>\n",
       "      <td>1546.750533</td>\n",
       "    </tr>\n",
       "    <tr>\n",
       "      <th>7</th>\n",
       "      <td>Masculino</td>\n",
       "      <td>Indígena</td>\n",
       "      <td>910.235772</td>\n",
       "    </tr>\n",
       "    <tr>\n",
       "      <th>8</th>\n",
       "      <td>Masculino</td>\n",
       "      <td>Parda</td>\n",
       "      <td>1214.094003</td>\n",
       "    </tr>\n",
       "    <tr>\n",
       "      <th>9</th>\n",
       "      <td>Masculino</td>\n",
       "      <td>Preta</td>\n",
       "      <td>1255.918935</td>\n",
       "    </tr>\n",
       "  </tbody>\n",
       "</table>\n",
       "</div>"
      ],
      "text/plain": [
       "        Sexo       Cor        Renda\n",
       "0   Feminino   Amarela  1418.670330\n",
       "1   Feminino    Branca  1248.056715\n",
       "2   Feminino  Indígena   872.075269\n",
       "3   Feminino     Parda   920.138728\n",
       "4   Feminino     Preta   945.759670\n",
       "5  Masculino   Amarela  1799.713287\n",
       "6  Masculino    Branca  1546.750533\n",
       "7  Masculino  Indígena   910.235772\n",
       "8  Masculino     Parda  1214.094003\n",
       "9  Masculino     Preta  1255.918935"
      ]
     },
     "execution_count": 172,
     "metadata": {},
     "output_type": "execute_result"
    }
   ],
   "source": [
    "#Exibindo a renda\n",
    "dfRendamenor"
   ]
  },
  {
   "cell_type": "markdown",
   "metadata": {},
   "source": [
    "* Construindo dataframe para rendas superiores a R$ 3.818,00"
   ]
  },
  {
   "cell_type": "code",
   "execution_count": 173,
   "metadata": {},
   "outputs": [],
   "source": [
    "#Criando df com as rendas superiores ao limite\n",
    "dfRendaMaior = dados.query(\"Renda > 3818\").groupby([\"Sexo\", \"Cor\"]).Renda.mean().to_frame()"
   ]
  },
  {
   "cell_type": "code",
   "execution_count": 174,
   "metadata": {},
   "outputs": [],
   "source": [
    "#Resetando o index do dataframe\n",
    "dfRendaMaior.reset_index(inplace=True)"
   ]
  },
  {
   "cell_type": "code",
   "execution_count": 175,
   "metadata": {},
   "outputs": [
    {
     "data": {
      "text/html": [
       "<div>\n",
       "<style scoped>\n",
       "    .dataframe tbody tr th:only-of-type {\n",
       "        vertical-align: middle;\n",
       "    }\n",
       "\n",
       "    .dataframe tbody tr th {\n",
       "        vertical-align: top;\n",
       "    }\n",
       "\n",
       "    .dataframe thead th {\n",
       "        text-align: right;\n",
       "    }\n",
       "</style>\n",
       "<table border=\"1\" class=\"dataframe\">\n",
       "  <thead>\n",
       "    <tr style=\"text-align: right;\">\n",
       "      <th></th>\n",
       "      <th>Sexo</th>\n",
       "      <th>Cor</th>\n",
       "      <th>Renda</th>\n",
       "    </tr>\n",
       "  </thead>\n",
       "  <tbody>\n",
       "    <tr>\n",
       "      <th>0</th>\n",
       "      <td>Feminino</td>\n",
       "      <td>Amarela</td>\n",
       "      <td>8657.692308</td>\n",
       "    </tr>\n",
       "    <tr>\n",
       "      <th>1</th>\n",
       "      <td>Feminino</td>\n",
       "      <td>Branca</td>\n",
       "      <td>7720.714286</td>\n",
       "    </tr>\n",
       "    <tr>\n",
       "      <th>2</th>\n",
       "      <td>Feminino</td>\n",
       "      <td>Indígena</td>\n",
       "      <td>20975.000000</td>\n",
       "    </tr>\n",
       "    <tr>\n",
       "      <th>3</th>\n",
       "      <td>Feminino</td>\n",
       "      <td>Parda</td>\n",
       "      <td>6703.134855</td>\n",
       "    </tr>\n",
       "    <tr>\n",
       "      <th>4</th>\n",
       "      <td>Feminino</td>\n",
       "      <td>Preta</td>\n",
       "      <td>6569.979381</td>\n",
       "    </tr>\n",
       "    <tr>\n",
       "      <th>5</th>\n",
       "      <td>Masculino</td>\n",
       "      <td>Amarela</td>\n",
       "      <td>9356.847826</td>\n",
       "    </tr>\n",
       "    <tr>\n",
       "      <th>6</th>\n",
       "      <td>Masculino</td>\n",
       "      <td>Branca</td>\n",
       "      <td>8540.669790</td>\n",
       "    </tr>\n",
       "    <tr>\n",
       "      <th>7</th>\n",
       "      <td>Masculino</td>\n",
       "      <td>Indígena</td>\n",
       "      <td>5300.000000</td>\n",
       "    </tr>\n",
       "    <tr>\n",
       "      <th>8</th>\n",
       "      <td>Masculino</td>\n",
       "      <td>Parda</td>\n",
       "      <td>7143.542220</td>\n",
       "    </tr>\n",
       "    <tr>\n",
       "      <th>9</th>\n",
       "      <td>Masculino</td>\n",
       "      <td>Preta</td>\n",
       "      <td>6603.351955</td>\n",
       "    </tr>\n",
       "  </tbody>\n",
       "</table>\n",
       "</div>"
      ],
      "text/plain": [
       "        Sexo       Cor         Renda\n",
       "0   Feminino   Amarela   8657.692308\n",
       "1   Feminino    Branca   7720.714286\n",
       "2   Feminino  Indígena  20975.000000\n",
       "3   Feminino     Parda   6703.134855\n",
       "4   Feminino     Preta   6569.979381\n",
       "5  Masculino   Amarela   9356.847826\n",
       "6  Masculino    Branca   8540.669790\n",
       "7  Masculino  Indígena   5300.000000\n",
       "8  Masculino     Parda   7143.542220\n",
       "9  Masculino     Preta   6603.351955"
      ]
     },
     "execution_count": 175,
     "metadata": {},
     "output_type": "execute_result"
    }
   ],
   "source": [
    "#Data frame final\n",
    "dfRendaMaior"
   ]
  },
  {
   "cell_type": "markdown",
   "metadata": {},
   "source": [
    "* Boxplot da renda por sexo de todo data frame."
   ]
  },
  {
   "cell_type": "code",
   "execution_count": 176,
   "metadata": {},
   "outputs": [
    {
     "data": {
      "image/png": "[encoded data removed]",
      "text/plain": [
       "<Figure size 864x576 with 1 Axes>"
      ]
     },
     "metadata": {},
     "output_type": "display_data"
    }
   ],
   "source": [
    "#Boxplot dos dados gerais analisando renda e sexo\n",
    "_ = outlierfunc(data=dados, x=\"Renda\", y=\"Sexo\", title=\"Distribuição da renda dados gerais\",\n",
    "             ylabel=\"Renda\")\n"
   ]
  },
  {
   "cell_type": "markdown",
   "metadata": {},
   "source": [
    "* Filtrando renda de até R$3.818,00"
   ]
  },
  {
   "cell_type": "code",
   "execution_count": 177,
   "metadata": {},
   "outputs": [
    {
     "data": {
      "image/png": "[encoded data removed]",
      "text/plain": [
       "<Figure size 864x576 with 1 Axes>"
      ]
     },
     "metadata": {},
     "output_type": "display_data"
    }
   ],
   "source": [
    "#Boxplot analisando o df com renda menor ao limite\n",
    "_ = outlierfunc(data=dfRendamenor, x=\"Renda\", y=\"Sexo\", title=\"Distribuição de renda dados filtrados\", ylabel=\"Sexo\")"
   ]
  },
  {
   "cell_type": "markdown",
   "metadata": {},
   "source": [
    "> Insight: Os homens tem uma renda maior (média) que as mulheres. Dataset analisado: Renda de até R$3.818,00"
   ]
  },
  {
   "cell_type": "markdown",
   "metadata": {},
   "source": [
    "* Comparando os dados de renda gerais."
   ]
  },
  {
   "cell_type": "code",
   "execution_count": 178,
   "metadata": {},
   "outputs": [],
   "source": [
    "#Media geral dos dados\n",
    "\n",
    "dfMediaGeral = dados.groupby(\"Sexo\").Renda.mean().round(2).reset_index()"
   ]
  },
  {
   "cell_type": "code",
   "execution_count": 179,
   "metadata": {},
   "outputs": [
    {
     "data": {
      "text/html": [
       "<div>\n",
       "<style scoped>\n",
       "    .dataframe tbody tr th:only-of-type {\n",
       "        vertical-align: middle;\n",
       "    }\n",
       "\n",
       "    .dataframe tbody tr th {\n",
       "        vertical-align: top;\n",
       "    }\n",
       "\n",
       "    .dataframe thead th {\n",
       "        text-align: right;\n",
       "    }\n",
       "</style>\n",
       "<table border=\"1\" class=\"dataframe\">\n",
       "  <thead>\n",
       "    <tr style=\"text-align: right;\">\n",
       "      <th></th>\n",
       "      <th>Sexo</th>\n",
       "      <th>Renda</th>\n",
       "    </tr>\n",
       "  </thead>\n",
       "  <tbody>\n",
       "    <tr>\n",
       "      <th>0</th>\n",
       "      <td>Feminino</td>\n",
       "      <td>1566.85</td>\n",
       "    </tr>\n",
       "    <tr>\n",
       "      <th>1</th>\n",
       "      <td>Masculino</td>\n",
       "      <td>2192.44</td>\n",
       "    </tr>\n",
       "  </tbody>\n",
       "</table>\n",
       "</div>"
      ],
      "text/plain": [
       "        Sexo    Renda\n",
       "0   Feminino  1566.85\n",
       "1  Masculino  2192.44"
      ]
     },
     "execution_count": 179,
     "metadata": {},
     "output_type": "execute_result"
    }
   ],
   "source": [
    "#Exibindo media geral\n",
    "dfMediaGeral"
   ]
  },
  {
   "cell_type": "code",
   "execution_count": 180,
   "metadata": {},
   "outputs": [
    {
     "data": {
      "text/plain": [
       "39.92660433353545"
      ]
     },
     "execution_count": 180,
     "metadata": {},
     "output_type": "execute_result"
    }
   ],
   "source": [
    "variacao = ((2192.44 - 1566.85) / 1566.85 )*100\n",
    "variacao"
   ]
  },
  {
   "cell_type": "markdown",
   "metadata": {},
   "source": [
    "> **Insight**:Os homens ganhavam cerca de **40%** a mais do que as mulheres no Brasil, em 2015."
   ]
  },
  {
   "attachments": {},
   "cell_type": "markdown",
   "metadata": {},
   "source": [
    "### 3.3.1 Teste de hipótese\n",
    "Realizando um teste de hipótese para confirmar se os homens ganham mais que as mulheres, em média, no ano de 2015.\n",
    "Será realizado uma amostra estratificada dos **dados**."
   ]
  },
  {
   "cell_type": "code",
   "execution_count": 181,
   "metadata": {},
   "outputs": [
    {
     "data": {
      "text/html": [
       "<div>\n",
       "<style scoped>\n",
       "    .dataframe tbody tr th:only-of-type {\n",
       "        vertical-align: middle;\n",
       "    }\n",
       "\n",
       "    .dataframe tbody tr th {\n",
       "        vertical-align: top;\n",
       "    }\n",
       "\n",
       "    .dataframe thead th {\n",
       "        text-align: right;\n",
       "    }\n",
       "</style>\n",
       "<table border=\"1\" class=\"dataframe\">\n",
       "  <thead>\n",
       "    <tr style=\"text-align: right;\">\n",
       "      <th></th>\n",
       "      <th>UF</th>\n",
       "      <th>Sexo</th>\n",
       "      <th>Idade</th>\n",
       "      <th>Cor</th>\n",
       "      <th>Anos de Estudo</th>\n",
       "      <th>Renda</th>\n",
       "    </tr>\n",
       "  </thead>\n",
       "  <tbody>\n",
       "    <tr>\n",
       "      <th>0</th>\n",
       "      <td>Rondônia</td>\n",
       "      <td>Masculino</td>\n",
       "      <td>23</td>\n",
       "      <td>Parda</td>\n",
       "      <td>12</td>\n",
       "      <td>800</td>\n",
       "    </tr>\n",
       "    <tr>\n",
       "      <th>1</th>\n",
       "      <td>Rondônia</td>\n",
       "      <td>Feminino</td>\n",
       "      <td>23</td>\n",
       "      <td>Branca</td>\n",
       "      <td>12</td>\n",
       "      <td>1150</td>\n",
       "    </tr>\n",
       "    <tr>\n",
       "      <th>2</th>\n",
       "      <td>Rondônia</td>\n",
       "      <td>Feminino</td>\n",
       "      <td>35</td>\n",
       "      <td>Parda</td>\n",
       "      <td>15</td>\n",
       "      <td>880</td>\n",
       "    </tr>\n",
       "    <tr>\n",
       "      <th>3</th>\n",
       "      <td>Rondônia</td>\n",
       "      <td>Masculino</td>\n",
       "      <td>46</td>\n",
       "      <td>Branca</td>\n",
       "      <td>6</td>\n",
       "      <td>3500</td>\n",
       "    </tr>\n",
       "    <tr>\n",
       "      <th>4</th>\n",
       "      <td>Rondônia</td>\n",
       "      <td>Feminino</td>\n",
       "      <td>47</td>\n",
       "      <td>Parda</td>\n",
       "      <td>9</td>\n",
       "      <td>150</td>\n",
       "    </tr>\n",
       "    <tr>\n",
       "      <th>...</th>\n",
       "      <td>...</td>\n",
       "      <td>...</td>\n",
       "      <td>...</td>\n",
       "      <td>...</td>\n",
       "      <td>...</td>\n",
       "      <td>...</td>\n",
       "    </tr>\n",
       "    <tr>\n",
       "      <th>76835</th>\n",
       "      <td>Distrito Federal</td>\n",
       "      <td>Feminino</td>\n",
       "      <td>46</td>\n",
       "      <td>Branca</td>\n",
       "      <td>11</td>\n",
       "      <td>812</td>\n",
       "    </tr>\n",
       "    <tr>\n",
       "      <th>76836</th>\n",
       "      <td>Distrito Federal</td>\n",
       "      <td>Masculino</td>\n",
       "      <td>30</td>\n",
       "      <td>Preta</td>\n",
       "      <td>7</td>\n",
       "      <td>1500</td>\n",
       "    </tr>\n",
       "    <tr>\n",
       "      <th>76837</th>\n",
       "      <td>Distrito Federal</td>\n",
       "      <td>Masculino</td>\n",
       "      <td>32</td>\n",
       "      <td>Parda</td>\n",
       "      <td>12</td>\n",
       "      <td>1300</td>\n",
       "    </tr>\n",
       "    <tr>\n",
       "      <th>76838</th>\n",
       "      <td>Distrito Federal</td>\n",
       "      <td>Masculino</td>\n",
       "      <td>57</td>\n",
       "      <td>Parda</td>\n",
       "      <td>4</td>\n",
       "      <td>1500</td>\n",
       "    </tr>\n",
       "    <tr>\n",
       "      <th>76839</th>\n",
       "      <td>Distrito Federal</td>\n",
       "      <td>Masculino</td>\n",
       "      <td>38</td>\n",
       "      <td>Parda</td>\n",
       "      <td>4</td>\n",
       "      <td>900</td>\n",
       "    </tr>\n",
       "  </tbody>\n",
       "</table>\n",
       "<p>76840 rows × 6 columns</p>\n",
       "</div>"
      ],
      "text/plain": [
       "                     UF       Sexo  Idade     Cor  Anos de Estudo  Renda\n",
       "0              Rondônia  Masculino     23   Parda              12    800\n",
       "1              Rondônia   Feminino     23  Branca              12   1150\n",
       "2              Rondônia   Feminino     35   Parda              15    880\n",
       "3              Rondônia  Masculino     46  Branca               6   3500\n",
       "4              Rondônia   Feminino     47   Parda               9    150\n",
       "...                 ...        ...    ...     ...             ...    ...\n",
       "76835  Distrito Federal   Feminino     46  Branca              11    812\n",
       "76836  Distrito Federal  Masculino     30   Preta               7   1500\n",
       "76837  Distrito Federal  Masculino     32   Parda              12   1300\n",
       "76838  Distrito Federal  Masculino     57   Parda               4   1500\n",
       "76839  Distrito Federal  Masculino     38   Parda               4    900\n",
       "\n",
       "[76840 rows x 6 columns]"
      ]
     },
     "execution_count": 181,
     "metadata": {},
     "output_type": "execute_result"
    }
   ],
   "source": [
    "dados"
   ]
  },
  {
   "cell_type": "code",
   "execution_count": 182,
   "metadata": {},
   "outputs": [
    {
     "data": {
      "text/html": [
       "<div>\n",
       "<style scoped>\n",
       "    .dataframe tbody tr th:only-of-type {\n",
       "        vertical-align: middle;\n",
       "    }\n",
       "\n",
       "    .dataframe tbody tr th {\n",
       "        vertical-align: top;\n",
       "    }\n",
       "\n",
       "    .dataframe thead th {\n",
       "        text-align: right;\n",
       "    }\n",
       "</style>\n",
       "<table border=\"1\" class=\"dataframe\">\n",
       "  <thead>\n",
       "    <tr style=\"text-align: right;\">\n",
       "      <th></th>\n",
       "      <th>UF</th>\n",
       "      <th>Sexo</th>\n",
       "      <th>Idade</th>\n",
       "      <th>Cor</th>\n",
       "      <th>Anos de Estudo</th>\n",
       "      <th>Renda</th>\n",
       "    </tr>\n",
       "  </thead>\n",
       "  <tbody>\n",
       "    <tr>\n",
       "      <th>1</th>\n",
       "      <td>Rondônia</td>\n",
       "      <td>Feminino</td>\n",
       "      <td>23</td>\n",
       "      <td>Branca</td>\n",
       "      <td>12</td>\n",
       "      <td>1150</td>\n",
       "    </tr>\n",
       "    <tr>\n",
       "      <th>2</th>\n",
       "      <td>Rondônia</td>\n",
       "      <td>Feminino</td>\n",
       "      <td>35</td>\n",
       "      <td>Parda</td>\n",
       "      <td>15</td>\n",
       "      <td>880</td>\n",
       "    </tr>\n",
       "    <tr>\n",
       "      <th>4</th>\n",
       "      <td>Rondônia</td>\n",
       "      <td>Feminino</td>\n",
       "      <td>47</td>\n",
       "      <td>Parda</td>\n",
       "      <td>9</td>\n",
       "      <td>150</td>\n",
       "    </tr>\n",
       "    <tr>\n",
       "      <th>5</th>\n",
       "      <td>Rondônia</td>\n",
       "      <td>Feminino</td>\n",
       "      <td>34</td>\n",
       "      <td>Parda</td>\n",
       "      <td>12</td>\n",
       "      <td>790</td>\n",
       "    </tr>\n",
       "    <tr>\n",
       "      <th>7</th>\n",
       "      <td>Rondônia</td>\n",
       "      <td>Feminino</td>\n",
       "      <td>60</td>\n",
       "      <td>Parda</td>\n",
       "      <td>12</td>\n",
       "      <td>1700</td>\n",
       "    </tr>\n",
       "    <tr>\n",
       "      <th>...</th>\n",
       "      <td>...</td>\n",
       "      <td>...</td>\n",
       "      <td>...</td>\n",
       "      <td>...</td>\n",
       "      <td>...</td>\n",
       "      <td>...</td>\n",
       "    </tr>\n",
       "    <tr>\n",
       "      <th>76827</th>\n",
       "      <td>Distrito Federal</td>\n",
       "      <td>Feminino</td>\n",
       "      <td>41</td>\n",
       "      <td>Branca</td>\n",
       "      <td>16</td>\n",
       "      <td>10000</td>\n",
       "    </tr>\n",
       "    <tr>\n",
       "      <th>76831</th>\n",
       "      <td>Distrito Federal</td>\n",
       "      <td>Feminino</td>\n",
       "      <td>44</td>\n",
       "      <td>Branca</td>\n",
       "      <td>16</td>\n",
       "      <td>30000</td>\n",
       "    </tr>\n",
       "    <tr>\n",
       "      <th>76832</th>\n",
       "      <td>Distrito Federal</td>\n",
       "      <td>Feminino</td>\n",
       "      <td>49</td>\n",
       "      <td>Branca</td>\n",
       "      <td>12</td>\n",
       "      <td>5000</td>\n",
       "    </tr>\n",
       "    <tr>\n",
       "      <th>76834</th>\n",
       "      <td>Distrito Federal</td>\n",
       "      <td>Feminino</td>\n",
       "      <td>35</td>\n",
       "      <td>Preta</td>\n",
       "      <td>1</td>\n",
       "      <td>1100</td>\n",
       "    </tr>\n",
       "    <tr>\n",
       "      <th>76835</th>\n",
       "      <td>Distrito Federal</td>\n",
       "      <td>Feminino</td>\n",
       "      <td>46</td>\n",
       "      <td>Branca</td>\n",
       "      <td>11</td>\n",
       "      <td>812</td>\n",
       "    </tr>\n",
       "  </tbody>\n",
       "</table>\n",
       "<p>23590 rows × 6 columns</p>\n",
       "</div>"
      ],
      "text/plain": [
       "                     UF      Sexo  Idade     Cor  Anos de Estudo  Renda\n",
       "1              Rondônia  Feminino     23  Branca              12   1150\n",
       "2              Rondônia  Feminino     35   Parda              15    880\n",
       "4              Rondônia  Feminino     47   Parda               9    150\n",
       "5              Rondônia  Feminino     34   Parda              12    790\n",
       "7              Rondônia  Feminino     60   Parda              12   1700\n",
       "...                 ...       ...    ...     ...             ...    ...\n",
       "76827  Distrito Federal  Feminino     41  Branca              16  10000\n",
       "76831  Distrito Federal  Feminino     44  Branca              16  30000\n",
       "76832  Distrito Federal  Feminino     49  Branca              12   5000\n",
       "76834  Distrito Federal  Feminino     35   Preta               1   1100\n",
       "76835  Distrito Federal  Feminino     46  Branca              11    812\n",
       "\n",
       "[23590 rows x 6 columns]"
      ]
     },
     "execution_count": 182,
     "metadata": {},
     "output_type": "execute_result"
    }
   ],
   "source": [
    "#Exibindo dados dos homens e mulheres\n",
    "dados.loc[lambda x: dados.Sexo == 'Masculino']\n",
    "dados.loc[lambda x: dados.Sexo == 'Feminino']"
   ]
  },
  {
   "cell_type": "code",
   "execution_count": 183,
   "metadata": {},
   "outputs": [
    {
     "data": {
      "text/plain": [
       "Masculino    53250\n",
       "Feminino     23590\n",
       "Name: Sexo, dtype: int64"
      ]
     },
     "execution_count": 183,
     "metadata": {},
     "output_type": "execute_result"
    }
   ],
   "source": [
    "#Exibindo frequência\n",
    "dados.Sexo.value_counts()"
   ]
  },
  {
   "cell_type": "code",
   "execution_count": 184,
   "metadata": {},
   "outputs": [
    {
     "name": "stdout",
     "output_type": "stream",
     "text": [
      "Frequencia homens: 69.30%, Frequência mulheres 30.70%\n"
     ]
    }
   ],
   "source": [
    "#Calculando frequência\n",
    "FreqHomens = len(dados.loc[lambda x: dados.Sexo == 'Masculino']) / len(dados)\n",
    "FreqMulheres = len(dados.loc[lambda x: dados.Sexo == 'Feminino']) / len(dados)\n",
    "\n",
    "#Printando a frequência e arredondando para duas casas\n",
    "print(f'Frequencia homens: {FreqHomens * 100 :.2f}%, Frequência mulheres {FreqMulheres*100:.2f}%')\n"
   ]
  },
  {
   "cell_type": "code",
   "execution_count": 185,
   "metadata": {},
   "outputs": [
    {
     "data": {
      "text/html": [
       "<div>\n",
       "<style scoped>\n",
       "    .dataframe tbody tr th:only-of-type {\n",
       "        vertical-align: middle;\n",
       "    }\n",
       "\n",
       "    .dataframe tbody tr th {\n",
       "        vertical-align: top;\n",
       "    }\n",
       "\n",
       "    .dataframe thead th {\n",
       "        text-align: right;\n",
       "    }\n",
       "</style>\n",
       "<table border=\"1\" class=\"dataframe\">\n",
       "  <thead>\n",
       "    <tr style=\"text-align: right;\">\n",
       "      <th></th>\n",
       "      <th>UF</th>\n",
       "      <th>Sexo</th>\n",
       "      <th>Idade</th>\n",
       "      <th>Cor</th>\n",
       "      <th>Anos de Estudo</th>\n",
       "      <th>Renda</th>\n",
       "    </tr>\n",
       "  </thead>\n",
       "  <tbody>\n",
       "    <tr>\n",
       "      <th>31490</th>\n",
       "      <td>Bahia</td>\n",
       "      <td>Masculino</td>\n",
       "      <td>31</td>\n",
       "      <td>Branca</td>\n",
       "      <td>12</td>\n",
       "      <td>801</td>\n",
       "    </tr>\n",
       "    <tr>\n",
       "      <th>65772</th>\n",
       "      <td>Rio Grande do Sul</td>\n",
       "      <td>Masculino</td>\n",
       "      <td>50</td>\n",
       "      <td>Branca</td>\n",
       "      <td>12</td>\n",
       "      <td>4000</td>\n",
       "    </tr>\n",
       "    <tr>\n",
       "      <th>75582</th>\n",
       "      <td>Distrito Federal</td>\n",
       "      <td>Feminino</td>\n",
       "      <td>42</td>\n",
       "      <td>Parda</td>\n",
       "      <td>16</td>\n",
       "      <td>7500</td>\n",
       "    </tr>\n",
       "    <tr>\n",
       "      <th>58757</th>\n",
       "      <td>Paraná</td>\n",
       "      <td>Feminino</td>\n",
       "      <td>58</td>\n",
       "      <td>Branca</td>\n",
       "      <td>5</td>\n",
       "      <td>300</td>\n",
       "    </tr>\n",
       "    <tr>\n",
       "      <th>25213</th>\n",
       "      <td>Sergipe</td>\n",
       "      <td>Feminino</td>\n",
       "      <td>24</td>\n",
       "      <td>Parda</td>\n",
       "      <td>12</td>\n",
       "      <td>788</td>\n",
       "    </tr>\n",
       "    <tr>\n",
       "      <th>...</th>\n",
       "      <td>...</td>\n",
       "      <td>...</td>\n",
       "      <td>...</td>\n",
       "      <td>...</td>\n",
       "      <td>...</td>\n",
       "      <td>...</td>\n",
       "    </tr>\n",
       "    <tr>\n",
       "      <th>4952</th>\n",
       "      <td>Roraima</td>\n",
       "      <td>Feminino</td>\n",
       "      <td>56</td>\n",
       "      <td>Branca</td>\n",
       "      <td>16</td>\n",
       "      <td>4000</td>\n",
       "    </tr>\n",
       "    <tr>\n",
       "      <th>76060</th>\n",
       "      <td>Distrito Federal</td>\n",
       "      <td>Feminino</td>\n",
       "      <td>56</td>\n",
       "      <td>Parda</td>\n",
       "      <td>15</td>\n",
       "      <td>400</td>\n",
       "    </tr>\n",
       "    <tr>\n",
       "      <th>38691</th>\n",
       "      <td>Minas Gerais</td>\n",
       "      <td>Masculino</td>\n",
       "      <td>57</td>\n",
       "      <td>Parda</td>\n",
       "      <td>8</td>\n",
       "      <td>1100</td>\n",
       "    </tr>\n",
       "    <tr>\n",
       "      <th>36871</th>\n",
       "      <td>Minas Gerais</td>\n",
       "      <td>Feminino</td>\n",
       "      <td>64</td>\n",
       "      <td>Parda</td>\n",
       "      <td>5</td>\n",
       "      <td>600</td>\n",
       "    </tr>\n",
       "    <tr>\n",
       "      <th>9137</th>\n",
       "      <td>Pará</td>\n",
       "      <td>Feminino</td>\n",
       "      <td>44</td>\n",
       "      <td>Parda</td>\n",
       "      <td>9</td>\n",
       "      <td>788</td>\n",
       "    </tr>\n",
       "  </tbody>\n",
       "</table>\n",
       "<p>15368 rows × 6 columns</p>\n",
       "</div>"
      ],
      "text/plain": [
       "                      UF       Sexo  Idade     Cor  Anos de Estudo  Renda\n",
       "31490              Bahia  Masculino     31  Branca              12    801\n",
       "65772  Rio Grande do Sul  Masculino     50  Branca              12   4000\n",
       "75582   Distrito Federal   Feminino     42   Parda              16   7500\n",
       "58757             Paraná   Feminino     58  Branca               5    300\n",
       "25213            Sergipe   Feminino     24   Parda              12    788\n",
       "...                  ...        ...    ...     ...             ...    ...\n",
       "4952             Roraima   Feminino     56  Branca              16   4000\n",
       "76060   Distrito Federal   Feminino     56   Parda              15    400\n",
       "38691       Minas Gerais  Masculino     57   Parda               8   1100\n",
       "36871       Minas Gerais   Feminino     64   Parda               5    600\n",
       "9137                Pará   Feminino     44   Parda               9    788\n",
       "\n",
       "[15368 rows x 6 columns]"
      ]
     },
     "execution_count": 185,
     "metadata": {},
     "output_type": "execute_result"
    }
   ],
   "source": [
    "#Importando biblioteca para criar distribuição\n",
    "from sklearn.model_selection import train_test_split\n",
    "\n",
    "#Separando os dados\n",
    "data_treino, data_teste = train_test_split(dados, test_size=0.2, stratify=dados['Sexo'])\n",
    "\n",
    "#Amostra de 20%\n",
    "data_teste"
   ]
  },
  {
   "cell_type": "code",
   "execution_count": 186,
   "metadata": {},
   "outputs": [
    {
     "data": {
      "text/plain": [
       "Masculino    10650\n",
       "Feminino      4718\n",
       "Name: Sexo, dtype: int64"
      ]
     },
     "execution_count": 186,
     "metadata": {},
     "output_type": "execute_result"
    }
   ],
   "source": [
    "#Conferindo frequência\n",
    "data_teste.Sexo.value_counts()"
   ]
  },
  {
   "cell_type": "code",
   "execution_count": 187,
   "metadata": {},
   "outputs": [
    {
     "name": "stdout",
     "output_type": "stream",
     "text": [
      "Frequência masculina: 69.30, Frequência feminina:30.70\n"
     ]
    }
   ],
   "source": [
    "#Conferindo frequência\n",
    "freqH = len(data_teste.loc[lambda x: data_teste.Sexo == \"Masculino\"]) / len(data_teste)\n",
    "freqM = len(data_teste.loc[lambda x: data_teste.Sexo == \"Feminino\"]) / len(data_teste)\n",
    "print(f\"Frequência masculina: {freqH*100:.2f}, Frequência feminina:{freqM*100:.2f}\")"
   ]
  },
  {
   "cell_type": "code",
   "execution_count": 209,
   "metadata": {},
   "outputs": [],
   "source": [
    "#Separando os dados das mulheres e homens em um dataframe\n",
    "dfHomens =  pd.DataFrame(data_teste.loc[lambda x: data_teste.Sexo == \"Masculino\"].Renda)\n",
    "dfMulheres = pd.DataFrame(data_teste.loc[lambda x: data_teste.Sexo == \"Feminino\"].Renda)\n",
    "\n"
   ]
  },
  {
   "attachments": {},
   "cell_type": "markdown",
   "metadata": {},
   "source": [
    "#### Os dados seguem a mesma distribuição dos dados."
   ]
  },
  {
   "attachments": {},
   "cell_type": "markdown",
   "metadata": {},
   "source": [
    "Formulação das hipóteses:<br>\n",
    "u1: Homens<br>\n",
    "u2: Mulheres\n",
    "\n"
   ]
  },
  {
   "attachments": {},
   "cell_type": "markdown",
   "metadata": {},
   "source": [
    "\n",
    "$H0$ : u1 $\\leq$ u2 <br>\n",
    "$H1$ : u1 $>$ u2"
   ]
  },
  {
   "attachments": {},
   "cell_type": "markdown",
   "metadata": {},
   "source": [
    "#### Como o desvio padrâo é desconhecido, e o tamanho da amostra é maior que 30, será utilizado o teste Z."
   ]
  },
  {
   "cell_type": "code",
   "execution_count": 210,
   "metadata": {},
   "outputs": [
    {
     "name": "stdout",
     "output_type": "stream",
     "text": [
      "Média masculina: R$2191.02, média feminina R$1541.94\n"
     ]
    }
   ],
   "source": [
    "#Separação dos dados\n",
    "#Média masculina\n",
    "mediaH = data_teste.loc[lambda x: data_teste.Sexo == \"Masculino\"].Renda.mean()\n",
    "\n",
    "#Média feminina\n",
    "mediaF = data_teste.loc[lambda x: data_teste.Sexo == \"Feminino\"].Renda.mean()\n",
    "\n",
    "#Exibindo médias de salários\n",
    "print(f\"Média masculina: R${mediaH:.2f}, média feminina R${mediaF:.2f}\")\n"
   ]
  },
  {
   "cell_type": "code",
   "execution_count": 211,
   "metadata": {},
   "outputs": [],
   "source": [
    "#Estabelendo nível de significância\n",
    "sig = 0.01\n",
    "n_h = 10650  #Quantidade de homens no data_teste\n",
    "n_f = 4718   #Quantidade  de mulheres no data_teste\n",
    "d_0 = 0      #0 pois declaro que não há diferença\n",
    "graus_de_liberdade = (n_h + n_f ) - 2 #graus de liberdade\n",
    "std_homens = dfHomens.Renda.std()\n",
    "std_mulheres = dfMulheres.Renda.std()\n"
   ]
  },
  {
   "cell_type": "code",
   "execution_count": 212,
   "metadata": {},
   "outputs": [
    {
     "data": {
      "text/plain": [
       "13.070040459306151"
      ]
     },
     "execution_count": 212,
     "metadata": {},
     "output_type": "execute_result"
    }
   ],
   "source": [
    "#Calculando z teste\n",
    "numerador = (mediaH - mediaF ) -d_0\n",
    "denominador = np.sqrt((std_homens ** 2 / n_h) + std_mulheres ** 2 / n_f)\n",
    "\n",
    "z = numerador / denominador\n",
    "z"
   ]
  },
  {
   "cell_type": "code",
   "execution_count": 214,
   "metadata": {},
   "outputs": [
    {
     "name": "stdout",
     "output_type": "stream",
     "text": [
      "[11.21255489]\n"
     ]
    }
   ],
   "source": [
    "#Importando bilioteca \n",
    "from statsmodels.stats.weightstats import DescrStatsW, CompareMeans\n",
    "\n",
    "#Teste homens\n",
    "testH = DescrStatsW(dfHomens)\n",
    "#Teste mulheres\n",
    "testM = DescrStatsW(dfMulheres)\n",
    "\n",
    "#comparando os testes\n",
    "testA = testH.get_compare(testM)\n",
    "testB = CompareMeans(testH, testM)\n",
    "\n",
    "#Extraindo p_valor\n",
    "z, p_valor = testA.ztest_ind(alternative='larger', value=0)\n",
    "print(z)\n"
   ]
  },
  {
   "cell_type": "code",
   "execution_count": 216,
   "metadata": {},
   "outputs": [
    {
     "data": {
      "text/plain": [
       "1.7691508123683785e-29"
      ]
     },
     "execution_count": 216,
     "metadata": {},
     "output_type": "execute_result"
    }
   ],
   "source": [
    "p_valor[0]"
   ]
  },
  {
   "attachments": {},
   "cell_type": "markdown",
   "metadata": {},
   "source": [
    "#### Concluindo com p_value"
   ]
  },
  {
   "cell_type": "code",
   "execution_count": 217,
   "metadata": {},
   "outputs": [
    {
     "data": {
      "text/plain": [
       "array([ True])"
      ]
     },
     "execution_count": 217,
     "metadata": {},
     "output_type": "execute_result"
    }
   ],
   "source": [
    "p_valor <= sig"
   ]
  },
  {
   "cell_type": "markdown",
   "metadata": {},
   "source": [
    "----"
   ]
  },
  {
   "cell_type": "markdown",
   "metadata": {},
   "source": [
    "### 3.2 Analisando Renda, Sexo  e Etnia"
   ]
  },
  {
   "cell_type": "code",
   "execution_count": null,
   "metadata": {},
   "outputs": [
    {
     "data": {
      "image/png": "[encoded data removed]",
      "text/plain": [
       "<Figure size 864x576 with 1 Axes>"
      ]
     },
     "metadata": {},
     "output_type": "display_data"
    }
   ],
   "source": [
    "_ = barplotfunc(data =dfRendamenor, x='Cor', y=\"Renda\", \n",
    "                title=\"Distribuição da Renda até R$ 3.818,00\", ylabel=\"Teste\")"
   ]
  },
  {
   "cell_type": "code",
   "execution_count": null,
   "metadata": {},
   "outputs": [
    {
     "data": {
      "image/png": "[encoded data removed]",
      "text/plain": [
       "<Figure size 864x576 with 1 Axes>"
      ]
     },
     "metadata": {},
     "output_type": "display_data"
    }
   ],
   "source": [
    "_ = barplotfunc(data =dados, x=\"Cor\", y=\"Renda\", \n",
    "                title=\"Distribuição da Renda por etnia\", ylabel=\"Renda\")"
   ]
  },
  {
   "cell_type": "code",
   "execution_count": null,
   "metadata": {},
   "outputs": [
    {
     "data": {
      "text/plain": [
       "4182.920454545455"
      ]
     },
     "execution_count": 39,
     "metadata": {},
     "output_type": "execute_result"
    }
   ],
   "source": [
    "dados.query(\"Cor == 'Amarela'\").Renda.mean()"
   ]
  },
  {
   "cell_type": "code",
   "execution_count": null,
   "metadata": {},
   "outputs": [
    {
     "data": {
      "text/plain": [
       "50000"
      ]
     },
     "execution_count": 40,
     "metadata": {},
     "output_type": "execute_result"
    }
   ],
   "source": [
    "dados.query(\"Cor == 'Amarela'\").Renda.max()"
   ]
  },
  {
   "cell_type": "code",
   "execution_count": null,
   "metadata": {},
   "outputs": [
    {
     "data": {
      "text/html": [
       "<div>\n",
       "<style scoped>\n",
       "    .dataframe tbody tr th:only-of-type {\n",
       "        vertical-align: middle;\n",
       "    }\n",
       "\n",
       "    .dataframe tbody tr th {\n",
       "        vertical-align: top;\n",
       "    }\n",
       "\n",
       "    .dataframe thead th {\n",
       "        text-align: right;\n",
       "    }\n",
       "</style>\n",
       "<table border=\"1\" class=\"dataframe\">\n",
       "  <thead>\n",
       "    <tr style=\"text-align: right;\">\n",
       "      <th></th>\n",
       "      <th>UF</th>\n",
       "      <th>Sexo</th>\n",
       "      <th>Idade</th>\n",
       "      <th>Cor</th>\n",
       "      <th>Anos de Estudo</th>\n",
       "      <th>Renda</th>\n",
       "    </tr>\n",
       "  </thead>\n",
       "  <tbody>\n",
       "    <tr>\n",
       "      <th>9343</th>\n",
       "      <td>Pará</td>\n",
       "      <td>Masculino</td>\n",
       "      <td>59</td>\n",
       "      <td>Amarela</td>\n",
       "      <td>12</td>\n",
       "      <td>50000</td>\n",
       "    </tr>\n",
       "  </tbody>\n",
       "</table>\n",
       "</div>"
      ],
      "text/plain": [
       "        UF       Sexo  Idade      Cor  Anos de Estudo  Renda\n",
       "9343  Pará  Masculino     59  Amarela              12  50000"
      ]
     },
     "execution_count": 41,
     "metadata": {},
     "output_type": "execute_result"
    }
   ],
   "source": [
    "dados.query(\"Renda == 50000 and Cor == 'Amarela'\")"
   ]
  },
  {
   "cell_type": "code",
   "execution_count": null,
   "metadata": {},
   "outputs": [],
   "source": [
    "dfEtniaAmarelo = dados.query(\"Cor == 'Amarela'\")\n",
    "dfEtniaAmarelo.reset_index(inplace=True)"
   ]
  },
  {
   "cell_type": "code",
   "execution_count": null,
   "metadata": {},
   "outputs": [
    {
     "data": {
      "text/plain": [
       "Index(['index', 'UF', 'Sexo', 'Idade', 'Cor', 'Anos de Estudo', 'Renda'], dtype='object')"
      ]
     },
     "execution_count": 43,
     "metadata": {},
     "output_type": "execute_result"
    }
   ],
   "source": [
    "dfEtniaAmarelo.columns"
   ]
  },
  {
   "cell_type": "code",
   "execution_count": null,
   "metadata": {},
   "outputs": [],
   "source": [
    "dfEtniaAmarelo.drop(columns=\"index\", inplace=True)"
   ]
  },
  {
   "cell_type": "code",
   "execution_count": null,
   "metadata": {},
   "outputs": [
    {
     "data": {
      "text/html": [
       "<div>\n",
       "<style scoped>\n",
       "    .dataframe tbody tr th:only-of-type {\n",
       "        vertical-align: middle;\n",
       "    }\n",
       "\n",
       "    .dataframe tbody tr th {\n",
       "        vertical-align: top;\n",
       "    }\n",
       "\n",
       "    .dataframe thead th {\n",
       "        text-align: right;\n",
       "    }\n",
       "</style>\n",
       "<table border=\"1\" class=\"dataframe\">\n",
       "  <thead>\n",
       "    <tr style=\"text-align: right;\">\n",
       "      <th></th>\n",
       "      <th>UF</th>\n",
       "      <th>Sexo</th>\n",
       "      <th>Idade</th>\n",
       "      <th>Cor</th>\n",
       "      <th>Anos de Estudo</th>\n",
       "      <th>Renda</th>\n",
       "    </tr>\n",
       "  </thead>\n",
       "  <tbody>\n",
       "    <tr>\n",
       "      <th>0</th>\n",
       "      <td>Rondônia</td>\n",
       "      <td>Masculino</td>\n",
       "      <td>64</td>\n",
       "      <td>Amarela</td>\n",
       "      <td>5</td>\n",
       "      <td>600</td>\n",
       "    </tr>\n",
       "    <tr>\n",
       "      <th>1</th>\n",
       "      <td>Rondônia</td>\n",
       "      <td>Masculino</td>\n",
       "      <td>53</td>\n",
       "      <td>Amarela</td>\n",
       "      <td>8</td>\n",
       "      <td>1800</td>\n",
       "    </tr>\n",
       "    <tr>\n",
       "      <th>2</th>\n",
       "      <td>Rondônia</td>\n",
       "      <td>Masculino</td>\n",
       "      <td>34</td>\n",
       "      <td>Amarela</td>\n",
       "      <td>16</td>\n",
       "      <td>8000</td>\n",
       "    </tr>\n",
       "    <tr>\n",
       "      <th>3</th>\n",
       "      <td>Rondônia</td>\n",
       "      <td>Feminino</td>\n",
       "      <td>45</td>\n",
       "      <td>Amarela</td>\n",
       "      <td>5</td>\n",
       "      <td>640</td>\n",
       "    </tr>\n",
       "    <tr>\n",
       "      <th>4</th>\n",
       "      <td>Rondônia</td>\n",
       "      <td>Masculino</td>\n",
       "      <td>33</td>\n",
       "      <td>Amarela</td>\n",
       "      <td>5</td>\n",
       "      <td>1250</td>\n",
       "    </tr>\n",
       "  </tbody>\n",
       "</table>\n",
       "</div>"
      ],
      "text/plain": [
       "         UF       Sexo  Idade      Cor  Anos de Estudo  Renda\n",
       "0  Rondônia  Masculino     64  Amarela               5    600\n",
       "1  Rondônia  Masculino     53  Amarela               8   1800\n",
       "2  Rondônia  Masculino     34  Amarela              16   8000\n",
       "3  Rondônia   Feminino     45  Amarela               5    640\n",
       "4  Rondônia  Masculino     33  Amarela               5   1250"
      ]
     },
     "execution_count": 45,
     "metadata": {},
     "output_type": "execute_result"
    }
   ],
   "source": [
    "dfEtniaAmarelo.head()"
   ]
  },
  {
   "cell_type": "code",
   "execution_count": null,
   "metadata": {},
   "outputs": [
    {
     "data": {
      "image/png": "[encoded data removed]",
      "text/plain": [
       "<Figure size 864x576 with 1 Axes>"
      ]
     },
     "metadata": {},
     "output_type": "display_data"
    }
   ],
   "source": [
    "_=barplotfunc(data=dfEtniaAmarelo, x=\"Sexo\", y=\"Renda\", title=None, ylabel=None)"
   ]
  },
  {
   "cell_type": "markdown",
   "metadata": {},
   "source": [
    "> **Insight**: Na distribuição dos dados da etnia Amarelo, os homens se encontram em maior quantidade."
   ]
  },
  {
   "cell_type": "markdown",
   "metadata": {},
   "source": [
    "* Plotando o gráfico dos salários por estado da etnina amarelo."
   ]
  },
  {
   "cell_type": "code",
   "execution_count": null,
   "metadata": {},
   "outputs": [
    {
     "data": {
      "text/html": [
       "<div>\n",
       "<style scoped>\n",
       "    .dataframe tbody tr th:only-of-type {\n",
       "        vertical-align: middle;\n",
       "    }\n",
       "\n",
       "    .dataframe tbody tr th {\n",
       "        vertical-align: top;\n",
       "    }\n",
       "\n",
       "    .dataframe thead th {\n",
       "        text-align: right;\n",
       "    }\n",
       "</style>\n",
       "<table border=\"1\" class=\"dataframe\">\n",
       "  <thead>\n",
       "    <tr style=\"text-align: right;\">\n",
       "      <th></th>\n",
       "      <th>UF</th>\n",
       "      <th>Sexo</th>\n",
       "      <th>Idade</th>\n",
       "      <th>Cor</th>\n",
       "      <th>Anos de Estudo</th>\n",
       "      <th>Renda</th>\n",
       "    </tr>\n",
       "  </thead>\n",
       "  <tbody>\n",
       "    <tr>\n",
       "      <th>31</th>\n",
       "      <td>Pará</td>\n",
       "      <td>Masculino</td>\n",
       "      <td>59</td>\n",
       "      <td>Amarela</td>\n",
       "      <td>12</td>\n",
       "      <td>50000</td>\n",
       "    </tr>\n",
       "    <tr>\n",
       "      <th>339</th>\n",
       "      <td>Goiás</td>\n",
       "      <td>Masculino</td>\n",
       "      <td>37</td>\n",
       "      <td>Amarela</td>\n",
       "      <td>12</td>\n",
       "      <td>30000</td>\n",
       "    </tr>\n",
       "    <tr>\n",
       "      <th>242</th>\n",
       "      <td>Paraná</td>\n",
       "      <td>Masculino</td>\n",
       "      <td>63</td>\n",
       "      <td>Amarela</td>\n",
       "      <td>16</td>\n",
       "      <td>28000</td>\n",
       "    </tr>\n",
       "    <tr>\n",
       "      <th>179</th>\n",
       "      <td>São Paulo</td>\n",
       "      <td>Masculino</td>\n",
       "      <td>44</td>\n",
       "      <td>Amarela</td>\n",
       "      <td>16</td>\n",
       "      <td>20000</td>\n",
       "    </tr>\n",
       "    <tr>\n",
       "      <th>22</th>\n",
       "      <td>Pará</td>\n",
       "      <td>Masculino</td>\n",
       "      <td>50</td>\n",
       "      <td>Amarela</td>\n",
       "      <td>16</td>\n",
       "      <td>20000</td>\n",
       "    </tr>\n",
       "    <tr>\n",
       "      <th>...</th>\n",
       "      <td>...</td>\n",
       "      <td>...</td>\n",
       "      <td>...</td>\n",
       "      <td>...</td>\n",
       "      <td>...</td>\n",
       "      <td>...</td>\n",
       "    </tr>\n",
       "    <tr>\n",
       "      <th>74</th>\n",
       "      <td>Bahia</td>\n",
       "      <td>Feminino</td>\n",
       "      <td>34</td>\n",
       "      <td>Amarela</td>\n",
       "      <td>5</td>\n",
       "      <td>40</td>\n",
       "    </tr>\n",
       "    <tr>\n",
       "      <th>25</th>\n",
       "      <td>Pará</td>\n",
       "      <td>Feminino</td>\n",
       "      <td>64</td>\n",
       "      <td>Amarela</td>\n",
       "      <td>16</td>\n",
       "      <td>0</td>\n",
       "    </tr>\n",
       "    <tr>\n",
       "      <th>113</th>\n",
       "      <td>São Paulo</td>\n",
       "      <td>Feminino</td>\n",
       "      <td>64</td>\n",
       "      <td>Amarela</td>\n",
       "      <td>5</td>\n",
       "      <td>0</td>\n",
       "    </tr>\n",
       "    <tr>\n",
       "      <th>336</th>\n",
       "      <td>Goiás</td>\n",
       "      <td>Masculino</td>\n",
       "      <td>62</td>\n",
       "      <td>Amarela</td>\n",
       "      <td>9</td>\n",
       "      <td>0</td>\n",
       "    </tr>\n",
       "    <tr>\n",
       "      <th>284</th>\n",
       "      <td>Rio Grande do Sul</td>\n",
       "      <td>Masculino</td>\n",
       "      <td>66</td>\n",
       "      <td>Amarela</td>\n",
       "      <td>2</td>\n",
       "      <td>0</td>\n",
       "    </tr>\n",
       "  </tbody>\n",
       "</table>\n",
       "<p>352 rows × 6 columns</p>\n",
       "</div>"
      ],
      "text/plain": [
       "                    UF       Sexo  Idade      Cor  Anos de Estudo  Renda\n",
       "31                Pará  Masculino     59  Amarela              12  50000\n",
       "339              Goiás  Masculino     37  Amarela              12  30000\n",
       "242             Paraná  Masculino     63  Amarela              16  28000\n",
       "179          São Paulo  Masculino     44  Amarela              16  20000\n",
       "22                Pará  Masculino     50  Amarela              16  20000\n",
       "..                 ...        ...    ...      ...             ...    ...\n",
       "74               Bahia   Feminino     34  Amarela               5     40\n",
       "25                Pará   Feminino     64  Amarela              16      0\n",
       "113          São Paulo   Feminino     64  Amarela               5      0\n",
       "336              Goiás  Masculino     62  Amarela               9      0\n",
       "284  Rio Grande do Sul  Masculino     66  Amarela               2      0\n",
       "\n",
       "[352 rows x 6 columns]"
      ]
     },
     "execution_count": 47,
     "metadata": {},
     "output_type": "execute_result"
    }
   ],
   "source": [
    "dfEtniaAmarelo.sort_values(\"Renda\", ascending=False)"
   ]
  },
  {
   "cell_type": "code",
   "execution_count": null,
   "metadata": {},
   "outputs": [
    {
     "data": {
      "image/png": "[encoded data removed]",
      "text/plain": [
       "<Figure size 864x576 with 1 Axes>"
      ]
     },
     "metadata": {},
     "output_type": "display_data"
    }
   ],
   "source": [
    "_=barplotfunc(data=dfEtniaAmarelo.sort_values(\"Renda\", ascending=False)[:7], \n",
    "              x=\"UF\", y=\"Renda\", title=None, ylabel=None)"
   ]
  },
  {
   "cell_type": "markdown",
   "metadata": {},
   "source": [
    "> **Insight**: O Pará é o estado com maior renda média dessa Etnia. Deve analisar se o estado do Pará está entre os primeiros que mais pagam, dos dados gerais."
   ]
  },
  {
   "cell_type": "markdown",
   "metadata": {},
   "source": [
    "* Criando um grupo para analisar os demais estados."
   ]
  },
  {
   "cell_type": "code",
   "execution_count": null,
   "metadata": {},
   "outputs": [],
   "source": [
    "dfAgrupados=dados.groupby([\"UF\", \"Sexo\", \"Cor\"])[\"Renda\"].mean()"
   ]
  },
  {
   "cell_type": "code",
   "execution_count": null,
   "metadata": {},
   "outputs": [],
   "source": [
    "dfAgrupados = pd.DataFrame(dfAgrupados).reset_index()"
   ]
  },
  {
   "cell_type": "code",
   "execution_count": null,
   "metadata": {},
   "outputs": [
    {
     "data": {
      "text/html": [
       "<div>\n",
       "<style scoped>\n",
       "    .dataframe tbody tr th:only-of-type {\n",
       "        vertical-align: middle;\n",
       "    }\n",
       "\n",
       "    .dataframe tbody tr th {\n",
       "        vertical-align: top;\n",
       "    }\n",
       "\n",
       "    .dataframe thead th {\n",
       "        text-align: right;\n",
       "    }\n",
       "</style>\n",
       "<table border=\"1\" class=\"dataframe\">\n",
       "  <thead>\n",
       "    <tr style=\"text-align: right;\">\n",
       "      <th></th>\n",
       "      <th>UF</th>\n",
       "      <th>Sexo</th>\n",
       "      <th>Cor</th>\n",
       "      <th>Renda</th>\n",
       "    </tr>\n",
       "  </thead>\n",
       "  <tbody>\n",
       "    <tr>\n",
       "      <th>189</th>\n",
       "      <td>Rio de Janeiro</td>\n",
       "      <td>Feminino</td>\n",
       "      <td>Indígena</td>\n",
       "      <td>18784.000000</td>\n",
       "    </tr>\n",
       "    <tr>\n",
       "      <th>149</th>\n",
       "      <td>Pará</td>\n",
       "      <td>Masculino</td>\n",
       "      <td>Amarela</td>\n",
       "      <td>11135.714286</td>\n",
       "    </tr>\n",
       "    <tr>\n",
       "      <th>220</th>\n",
       "      <td>Santa Catarina</td>\n",
       "      <td>Masculino</td>\n",
       "      <td>Amarela</td>\n",
       "      <td>9250.000000</td>\n",
       "    </tr>\n",
       "    <tr>\n",
       "      <th>105</th>\n",
       "      <td>Mato Grosso do Sul</td>\n",
       "      <td>Feminino</td>\n",
       "      <td>Amarela</td>\n",
       "      <td>7373.333333</td>\n",
       "    </tr>\n",
       "    <tr>\n",
       "      <th>177</th>\n",
       "      <td>Rio Grande do Sul</td>\n",
       "      <td>Feminino</td>\n",
       "      <td>Amarela</td>\n",
       "      <td>6175.000000</td>\n",
       "    </tr>\n",
       "    <tr>\n",
       "      <th>...</th>\n",
       "      <td>...</td>\n",
       "      <td>...</td>\n",
       "      <td>...</td>\n",
       "      <td>...</td>\n",
       "    </tr>\n",
       "    <tr>\n",
       "      <th>92</th>\n",
       "      <td>Maranhão</td>\n",
       "      <td>Masculino</td>\n",
       "      <td>Indígena</td>\n",
       "      <td>375.000000</td>\n",
       "    </tr>\n",
       "    <tr>\n",
       "      <th>0</th>\n",
       "      <td>Acre</td>\n",
       "      <td>Feminino</td>\n",
       "      <td>Amarela</td>\n",
       "      <td>300.000000</td>\n",
       "    </tr>\n",
       "    <tr>\n",
       "      <th>2</th>\n",
       "      <td>Acre</td>\n",
       "      <td>Feminino</td>\n",
       "      <td>Indígena</td>\n",
       "      <td>250.000000</td>\n",
       "    </tr>\n",
       "    <tr>\n",
       "      <th>225</th>\n",
       "      <td>Sergipe</td>\n",
       "      <td>Feminino</td>\n",
       "      <td>Amarela</td>\n",
       "      <td>200.000000</td>\n",
       "    </tr>\n",
       "    <tr>\n",
       "      <th>87</th>\n",
       "      <td>Maranhão</td>\n",
       "      <td>Feminino</td>\n",
       "      <td>Indígena</td>\n",
       "      <td>150.000000</td>\n",
       "    </tr>\n",
       "  </tbody>\n",
       "</table>\n",
       "<p>252 rows × 4 columns</p>\n",
       "</div>"
      ],
      "text/plain": [
       "                     UF       Sexo       Cor         Renda\n",
       "189      Rio de Janeiro   Feminino  Indígena  18784.000000\n",
       "149                Pará  Masculino   Amarela  11135.714286\n",
       "220      Santa Catarina  Masculino   Amarela   9250.000000\n",
       "105  Mato Grosso do Sul   Feminino   Amarela   7373.333333\n",
       "177   Rio Grande do Sul   Feminino   Amarela   6175.000000\n",
       "..                  ...        ...       ...           ...\n",
       "92             Maranhão  Masculino  Indígena    375.000000\n",
       "0                  Acre   Feminino   Amarela    300.000000\n",
       "2                  Acre   Feminino  Indígena    250.000000\n",
       "225             Sergipe   Feminino   Amarela    200.000000\n",
       "87             Maranhão   Feminino  Indígena    150.000000\n",
       "\n",
       "[252 rows x 4 columns]"
      ]
     },
     "execution_count": 51,
     "metadata": {},
     "output_type": "execute_result"
    }
   ],
   "source": [
    "dfAgrupados.sort_values(\"Renda\", ascending=False)"
   ]
  },
  {
   "cell_type": "code",
   "execution_count": null,
   "metadata": {},
   "outputs": [
    {
     "data": {
      "text/plain": [
       "array(['Acre', 'Alagoas', 'Amapá', 'Amazonas', 'Bahia', 'Ceará',\n",
       "       'Distrito Federal', 'Espírito Santo', 'Goiás', 'Maranhão',\n",
       "       'Mato Grosso', 'Mato Grosso do Sul', 'Minas Gerais', 'Paraná',\n",
       "       'Paraíba', 'Pará', 'Pernambuco', 'Piauí', 'Rio Grande do Norte',\n",
       "       'Rio Grande do Sul', 'Rio de Janeiro', 'Rondônia', 'Roraima',\n",
       "       'Santa Catarina', 'Sergipe', 'São Paulo', 'Tocantins'],\n",
       "      dtype=object)"
      ]
     },
     "execution_count": 52,
     "metadata": {},
     "output_type": "execute_result"
    }
   ],
   "source": [
    "dfAgrupados[\"UF\"].unique()"
   ]
  },
  {
   "cell_type": "code",
   "execution_count": null,
   "metadata": {},
   "outputs": [
    {
     "data": {
      "text/html": [
       "<div>\n",
       "<style scoped>\n",
       "    .dataframe tbody tr th:only-of-type {\n",
       "        vertical-align: middle;\n",
       "    }\n",
       "\n",
       "    .dataframe tbody tr th {\n",
       "        vertical-align: top;\n",
       "    }\n",
       "\n",
       "    .dataframe thead th {\n",
       "        text-align: right;\n",
       "    }\n",
       "</style>\n",
       "<table border=\"1\" class=\"dataframe\">\n",
       "  <thead>\n",
       "    <tr style=\"text-align: right;\">\n",
       "      <th></th>\n",
       "      <th>UF</th>\n",
       "      <th>Sexo</th>\n",
       "      <th>Cor</th>\n",
       "      <th>Renda</th>\n",
       "    </tr>\n",
       "  </thead>\n",
       "  <tbody>\n",
       "    <tr>\n",
       "      <th>57</th>\n",
       "      <td>Distrito Federal</td>\n",
       "      <td>Feminino</td>\n",
       "      <td>Amarela</td>\n",
       "      <td>6000.000000</td>\n",
       "    </tr>\n",
       "    <tr>\n",
       "      <th>58</th>\n",
       "      <td>Distrito Federal</td>\n",
       "      <td>Feminino</td>\n",
       "      <td>Branca</td>\n",
       "      <td>4308.846386</td>\n",
       "    </tr>\n",
       "    <tr>\n",
       "      <th>59</th>\n",
       "      <td>Distrito Federal</td>\n",
       "      <td>Feminino</td>\n",
       "      <td>Indígena</td>\n",
       "      <td>633.333333</td>\n",
       "    </tr>\n",
       "    <tr>\n",
       "      <th>60</th>\n",
       "      <td>Distrito Federal</td>\n",
       "      <td>Feminino</td>\n",
       "      <td>Parda</td>\n",
       "      <td>2628.223684</td>\n",
       "    </tr>\n",
       "    <tr>\n",
       "      <th>61</th>\n",
       "      <td>Distrito Federal</td>\n",
       "      <td>Feminino</td>\n",
       "      <td>Preta</td>\n",
       "      <td>1950.802469</td>\n",
       "    </tr>\n",
       "    <tr>\n",
       "      <th>62</th>\n",
       "      <td>Distrito Federal</td>\n",
       "      <td>Masculino</td>\n",
       "      <td>Amarela</td>\n",
       "      <td>5371.428571</td>\n",
       "    </tr>\n",
       "    <tr>\n",
       "      <th>63</th>\n",
       "      <td>Distrito Federal</td>\n",
       "      <td>Masculino</td>\n",
       "      <td>Branca</td>\n",
       "      <td>5848.899811</td>\n",
       "    </tr>\n",
       "    <tr>\n",
       "      <th>64</th>\n",
       "      <td>Distrito Federal</td>\n",
       "      <td>Masculino</td>\n",
       "      <td>Indígena</td>\n",
       "      <td>2000.000000</td>\n",
       "    </tr>\n",
       "    <tr>\n",
       "      <th>65</th>\n",
       "      <td>Distrito Federal</td>\n",
       "      <td>Masculino</td>\n",
       "      <td>Parda</td>\n",
       "      <td>4472.861702</td>\n",
       "    </tr>\n",
       "    <tr>\n",
       "      <th>66</th>\n",
       "      <td>Distrito Federal</td>\n",
       "      <td>Masculino</td>\n",
       "      <td>Preta</td>\n",
       "      <td>2877.868421</td>\n",
       "    </tr>\n",
       "  </tbody>\n",
       "</table>\n",
       "</div>"
      ],
      "text/plain": [
       "                  UF       Sexo       Cor        Renda\n",
       "57  Distrito Federal   Feminino   Amarela  6000.000000\n",
       "58  Distrito Federal   Feminino    Branca  4308.846386\n",
       "59  Distrito Federal   Feminino  Indígena   633.333333\n",
       "60  Distrito Federal   Feminino     Parda  2628.223684\n",
       "61  Distrito Federal   Feminino     Preta  1950.802469\n",
       "62  Distrito Federal  Masculino   Amarela  5371.428571\n",
       "63  Distrito Federal  Masculino    Branca  5848.899811\n",
       "64  Distrito Federal  Masculino  Indígena  2000.000000\n",
       "65  Distrito Federal  Masculino     Parda  4472.861702\n",
       "66  Distrito Federal  Masculino     Preta  2877.868421"
      ]
     },
     "execution_count": 53,
     "metadata": {},
     "output_type": "execute_result"
    }
   ],
   "source": [
    "dfAgrupados.loc[lambda df: dfAgrupados['UF']== 'Distrito Federal']"
   ]
  },
  {
   "cell_type": "code",
   "execution_count": null,
   "metadata": {},
   "outputs": [
    {
     "data": {
      "image/png": "[encoded data removed]",
      "text/plain": [
       "<Figure size 864x576 with 1 Axes>"
      ]
     },
     "metadata": {},
     "output_type": "display_data"
    }
   ],
   "source": [
    "_=barplotfunc(data=dfAgrupados.sort_values(\"Renda\", ascending=False)[:5],\n",
    "            x=\"UF\", y=\"Renda\", title=None, ylabel=None)"
   ]
  },
  {
   "cell_type": "markdown",
   "metadata": {},
   "source": [
    "### 3.3 Analisando correlação de anos de estudo e renda."
   ]
  },
  {
   "cell_type": "markdown",
   "metadata": {},
   "source": [
    "* Criando dataframe para analisar os anos de estudo com a renda."
   ]
  },
  {
   "cell_type": "code",
   "execution_count": null,
   "metadata": {},
   "outputs": [],
   "source": [
    "dfAnos = dados.groupby(\"Anos de Estudo\").Renda.mean().to_frame().reset_index()"
   ]
  },
  {
   "cell_type": "code",
   "execution_count": null,
   "metadata": {},
   "outputs": [
    {
     "data": {
      "text/html": [
       "<div>\n",
       "<style scoped>\n",
       "    .dataframe tbody tr th:only-of-type {\n",
       "        vertical-align: middle;\n",
       "    }\n",
       "\n",
       "    .dataframe tbody tr th {\n",
       "        vertical-align: top;\n",
       "    }\n",
       "\n",
       "    .dataframe thead th {\n",
       "        text-align: right;\n",
       "    }\n",
       "</style>\n",
       "<table border=\"1\" class=\"dataframe\">\n",
       "  <thead>\n",
       "    <tr style=\"text-align: right;\">\n",
       "      <th></th>\n",
       "      <th>Anos de Estudo</th>\n",
       "      <th>Renda</th>\n",
       "    </tr>\n",
       "  </thead>\n",
       "  <tbody>\n",
       "    <tr>\n",
       "      <th>0</th>\n",
       "      <td>1</td>\n",
       "      <td>732.994187</td>\n",
       "    </tr>\n",
       "    <tr>\n",
       "      <th>1</th>\n",
       "      <td>2</td>\n",
       "      <td>806.524496</td>\n",
       "    </tr>\n",
       "    <tr>\n",
       "      <th>2</th>\n",
       "      <td>3</td>\n",
       "      <td>842.560209</td>\n",
       "    </tr>\n",
       "    <tr>\n",
       "      <th>3</th>\n",
       "      <td>4</td>\n",
       "      <td>980.044275</td>\n",
       "    </tr>\n",
       "    <tr>\n",
       "      <th>4</th>\n",
       "      <td>5</td>\n",
       "      <td>1150.439293</td>\n",
       "    </tr>\n",
       "    <tr>\n",
       "      <th>5</th>\n",
       "      <td>6</td>\n",
       "      <td>1183.575683</td>\n",
       "    </tr>\n",
       "    <tr>\n",
       "      <th>6</th>\n",
       "      <td>7</td>\n",
       "      <td>1284.082618</td>\n",
       "    </tr>\n",
       "    <tr>\n",
       "      <th>7</th>\n",
       "      <td>8</td>\n",
       "      <td>1289.166233</td>\n",
       "    </tr>\n",
       "    <tr>\n",
       "      <th>8</th>\n",
       "      <td>9</td>\n",
       "      <td>1437.744862</td>\n",
       "    </tr>\n",
       "    <tr>\n",
       "      <th>9</th>\n",
       "      <td>10</td>\n",
       "      <td>1315.685870</td>\n",
       "    </tr>\n",
       "    <tr>\n",
       "      <th>10</th>\n",
       "      <td>11</td>\n",
       "      <td>1495.901322</td>\n",
       "    </tr>\n",
       "    <tr>\n",
       "      <th>11</th>\n",
       "      <td>12</td>\n",
       "      <td>1841.671287</td>\n",
       "    </tr>\n",
       "    <tr>\n",
       "      <th>12</th>\n",
       "      <td>13</td>\n",
       "      <td>2185.769063</td>\n",
       "    </tr>\n",
       "    <tr>\n",
       "      <th>13</th>\n",
       "      <td>14</td>\n",
       "      <td>2758.774142</td>\n",
       "    </tr>\n",
       "    <tr>\n",
       "      <th>14</th>\n",
       "      <td>15</td>\n",
       "      <td>3099.840058</td>\n",
       "    </tr>\n",
       "    <tr>\n",
       "      <th>15</th>\n",
       "      <td>16</td>\n",
       "      <td>5242.443353</td>\n",
       "    </tr>\n",
       "    <tr>\n",
       "      <th>16</th>\n",
       "      <td>17</td>\n",
       "      <td>1071.717277</td>\n",
       "    </tr>\n",
       "  </tbody>\n",
       "</table>\n",
       "</div>"
      ],
      "text/plain": [
       "    Anos de Estudo        Renda\n",
       "0                1   732.994187\n",
       "1                2   806.524496\n",
       "2                3   842.560209\n",
       "3                4   980.044275\n",
       "4                5  1150.439293\n",
       "5                6  1183.575683\n",
       "6                7  1284.082618\n",
       "7                8  1289.166233\n",
       "8                9  1437.744862\n",
       "9               10  1315.685870\n",
       "10              11  1495.901322\n",
       "11              12  1841.671287\n",
       "12              13  2185.769063\n",
       "13              14  2758.774142\n",
       "14              15  3099.840058\n",
       "15              16  5242.443353\n",
       "16              17  1071.717277"
      ]
     },
     "execution_count": 56,
     "metadata": {},
     "output_type": "execute_result"
    }
   ],
   "source": [
    "dfAnos"
   ]
  },
  {
   "cell_type": "code",
   "execution_count": null,
   "metadata": {},
   "outputs": [
    {
     "data": {
      "text/html": [
       "<div>\n",
       "<style scoped>\n",
       "    .dataframe tbody tr th:only-of-type {\n",
       "        vertical-align: middle;\n",
       "    }\n",
       "\n",
       "    .dataframe tbody tr th {\n",
       "        vertical-align: top;\n",
       "    }\n",
       "\n",
       "    .dataframe thead th {\n",
       "        text-align: right;\n",
       "    }\n",
       "</style>\n",
       "<table border=\"1\" class=\"dataframe\">\n",
       "  <thead>\n",
       "    <tr style=\"text-align: right;\">\n",
       "      <th></th>\n",
       "      <th>Anos de Estudo</th>\n",
       "      <th>Renda</th>\n",
       "    </tr>\n",
       "  </thead>\n",
       "  <tbody>\n",
       "    <tr>\n",
       "      <th>count</th>\n",
       "      <td>17.000000</td>\n",
       "      <td>17.000000</td>\n",
       "    </tr>\n",
       "    <tr>\n",
       "      <th>mean</th>\n",
       "      <td>9.000000</td>\n",
       "      <td>1689.349072</td>\n",
       "    </tr>\n",
       "    <tr>\n",
       "      <th>std</th>\n",
       "      <td>5.049752</td>\n",
       "      <td>1130.095815</td>\n",
       "    </tr>\n",
       "    <tr>\n",
       "      <th>min</th>\n",
       "      <td>1.000000</td>\n",
       "      <td>732.994187</td>\n",
       "    </tr>\n",
       "    <tr>\n",
       "      <th>25%</th>\n",
       "      <td>5.000000</td>\n",
       "      <td>1071.717277</td>\n",
       "    </tr>\n",
       "    <tr>\n",
       "      <th>50%</th>\n",
       "      <td>9.000000</td>\n",
       "      <td>1289.166233</td>\n",
       "    </tr>\n",
       "    <tr>\n",
       "      <th>75%</th>\n",
       "      <td>13.000000</td>\n",
       "      <td>1841.671287</td>\n",
       "    </tr>\n",
       "    <tr>\n",
       "      <th>max</th>\n",
       "      <td>17.000000</td>\n",
       "      <td>5242.443353</td>\n",
       "    </tr>\n",
       "  </tbody>\n",
       "</table>\n",
       "</div>"
      ],
      "text/plain": [
       "       Anos de Estudo        Renda\n",
       "count       17.000000    17.000000\n",
       "mean         9.000000  1689.349072\n",
       "std          5.049752  1130.095815\n",
       "min          1.000000   732.994187\n",
       "25%          5.000000  1071.717277\n",
       "50%          9.000000  1289.166233\n",
       "75%         13.000000  1841.671287\n",
       "max         17.000000  5242.443353"
      ]
     },
     "execution_count": 57,
     "metadata": {},
     "output_type": "execute_result"
    }
   ],
   "source": [
    "dfAnos.describe()"
   ]
  },
  {
   "cell_type": "markdown",
   "metadata": {},
   "source": [
    "* Plotando o gáfico para analisar a tendência\n",
    "."
   ]
  },
  {
   "cell_type": "code",
   "execution_count": null,
   "metadata": {},
   "outputs": [
    {
     "data": {
      "image/png": "[encoded data removed]",
      "text/plain": [
       "<Figure size 864x576 with 1 Axes>"
      ]
     },
     "metadata": {},
     "output_type": "display_data"
    }
   ],
   "source": [
    "plt.figure(figsize=(12,8))\n",
    "ax =sns.lineplot(data=dfAnos, x='Anos de Estudo', y = \"Renda\")"
   ]
  },
  {
   "cell_type": "code",
   "execution_count": null,
   "metadata": {},
   "outputs": [
    {
     "data": {
      "text/html": [
       "<div>\n",
       "<style scoped>\n",
       "    .dataframe tbody tr th:only-of-type {\n",
       "        vertical-align: middle;\n",
       "    }\n",
       "\n",
       "    .dataframe tbody tr th {\n",
       "        vertical-align: top;\n",
       "    }\n",
       "\n",
       "    .dataframe thead th {\n",
       "        text-align: right;\n",
       "    }\n",
       "</style>\n",
       "<table border=\"1\" class=\"dataframe\">\n",
       "  <thead>\n",
       "    <tr style=\"text-align: right;\">\n",
       "      <th></th>\n",
       "      <th>Anos de Estudo</th>\n",
       "      <th>Renda</th>\n",
       "    </tr>\n",
       "  </thead>\n",
       "  <tbody>\n",
       "    <tr>\n",
       "      <th>Anos de Estudo</th>\n",
       "      <td>1.000000</td>\n",
       "      <td>0.687397</td>\n",
       "    </tr>\n",
       "    <tr>\n",
       "      <th>Renda</th>\n",
       "      <td>0.687397</td>\n",
       "      <td>1.000000</td>\n",
       "    </tr>\n",
       "  </tbody>\n",
       "</table>\n",
       "</div>"
      ],
      "text/plain": [
       "                Anos de Estudo     Renda\n",
       "Anos de Estudo        1.000000  0.687397\n",
       "Renda                 0.687397  1.000000"
      ]
     },
     "execution_count": 59,
     "metadata": {},
     "output_type": "execute_result"
    }
   ],
   "source": [
    "dfAnos.corr()"
   ]
  },
  {
   "cell_type": "code",
   "execution_count": null,
   "metadata": {},
   "outputs": [
    {
     "data": {
      "image/png": "[encoded data removed]",
      "text/plain": [
       "<Figure size 864x576 with 1 Axes>"
      ]
     },
     "metadata": {},
     "output_type": "display_data"
    }
   ],
   "source": [
    "ax =sns.lmplot(data=dfAnos, x=\"Anos de Estudo\", y=\"Renda\")\n",
    "ax.figure.set_size_inches(12, 8)\n",
    "ax.fig.suptitle(\"Regressão Gasto Renda\",fontsize = 18, x=0.34, y=1)\n",
    "plt.show()"
   ]
  },
  {
   "cell_type": "markdown",
   "metadata": {},
   "source": [
    "> **Insight**: A uma correlação modearada (0.69) entre anos de estudo e renda. Quanto mais anos de estudo, maior a renda.  <br>\n",
    "> Ha uma queda no ano 17, porém pode ser um outlier."
   ]
  },
  {
   "cell_type": "markdown",
   "metadata": {},
   "source": [
    "* Explorando explicações para a queda de renda aos 17 anos de estudo."
   ]
  },
  {
   "cell_type": "code",
   "execution_count": null,
   "metadata": {},
   "outputs": [
    {
     "data": {
      "text/html": [
       "<div>\n",
       "<style scoped>\n",
       "    .dataframe tbody tr th:only-of-type {\n",
       "        vertical-align: middle;\n",
       "    }\n",
       "\n",
       "    .dataframe tbody tr th {\n",
       "        vertical-align: top;\n",
       "    }\n",
       "\n",
       "    .dataframe thead th {\n",
       "        text-align: right;\n",
       "    }\n",
       "</style>\n",
       "<table border=\"1\" class=\"dataframe\">\n",
       "  <thead>\n",
       "    <tr style=\"text-align: right;\">\n",
       "      <th></th>\n",
       "      <th>UF</th>\n",
       "      <th>Sexo</th>\n",
       "      <th>Idade</th>\n",
       "      <th>Cor</th>\n",
       "      <th>Anos de Estudo</th>\n",
       "      <th>Renda</th>\n",
       "    </tr>\n",
       "  </thead>\n",
       "  <tbody>\n",
       "    <tr>\n",
       "      <th>74</th>\n",
       "      <td>Rondônia</td>\n",
       "      <td>Masculino</td>\n",
       "      <td>41</td>\n",
       "      <td>Parda</td>\n",
       "      <td>17</td>\n",
       "      <td>2000</td>\n",
       "    </tr>\n",
       "    <tr>\n",
       "      <th>188</th>\n",
       "      <td>Rondônia</td>\n",
       "      <td>Masculino</td>\n",
       "      <td>38</td>\n",
       "      <td>Parda</td>\n",
       "      <td>17</td>\n",
       "      <td>1900</td>\n",
       "    </tr>\n",
       "    <tr>\n",
       "      <th>343</th>\n",
       "      <td>Rondônia</td>\n",
       "      <td>Feminino</td>\n",
       "      <td>47</td>\n",
       "      <td>Branca</td>\n",
       "      <td>17</td>\n",
       "      <td>788</td>\n",
       "    </tr>\n",
       "    <tr>\n",
       "      <th>1160</th>\n",
       "      <td>Rondônia</td>\n",
       "      <td>Masculino</td>\n",
       "      <td>26</td>\n",
       "      <td>Branca</td>\n",
       "      <td>17</td>\n",
       "      <td>1200</td>\n",
       "    </tr>\n",
       "    <tr>\n",
       "      <th>1261</th>\n",
       "      <td>Rondônia</td>\n",
       "      <td>Feminino</td>\n",
       "      <td>38</td>\n",
       "      <td>Parda</td>\n",
       "      <td>17</td>\n",
       "      <td>500</td>\n",
       "    </tr>\n",
       "    <tr>\n",
       "      <th>...</th>\n",
       "      <td>...</td>\n",
       "      <td>...</td>\n",
       "      <td>...</td>\n",
       "      <td>...</td>\n",
       "      <td>...</td>\n",
       "      <td>...</td>\n",
       "    </tr>\n",
       "    <tr>\n",
       "      <th>75844</th>\n",
       "      <td>Distrito Federal</td>\n",
       "      <td>Feminino</td>\n",
       "      <td>56</td>\n",
       "      <td>Parda</td>\n",
       "      <td>17</td>\n",
       "      <td>300</td>\n",
       "    </tr>\n",
       "    <tr>\n",
       "      <th>76041</th>\n",
       "      <td>Distrito Federal</td>\n",
       "      <td>Feminino</td>\n",
       "      <td>22</td>\n",
       "      <td>Branca</td>\n",
       "      <td>17</td>\n",
       "      <td>788</td>\n",
       "    </tr>\n",
       "    <tr>\n",
       "      <th>76575</th>\n",
       "      <td>Distrito Federal</td>\n",
       "      <td>Feminino</td>\n",
       "      <td>45</td>\n",
       "      <td>Preta</td>\n",
       "      <td>17</td>\n",
       "      <td>1200</td>\n",
       "    </tr>\n",
       "    <tr>\n",
       "      <th>76597</th>\n",
       "      <td>Distrito Federal</td>\n",
       "      <td>Feminino</td>\n",
       "      <td>58</td>\n",
       "      <td>Preta</td>\n",
       "      <td>17</td>\n",
       "      <td>3000</td>\n",
       "    </tr>\n",
       "    <tr>\n",
       "      <th>76674</th>\n",
       "      <td>Distrito Federal</td>\n",
       "      <td>Feminino</td>\n",
       "      <td>36</td>\n",
       "      <td>Parda</td>\n",
       "      <td>17</td>\n",
       "      <td>1200</td>\n",
       "    </tr>\n",
       "  </tbody>\n",
       "</table>\n",
       "<p>191 rows × 6 columns</p>\n",
       "</div>"
      ],
      "text/plain": [
       "                     UF       Sexo  Idade     Cor  Anos de Estudo  Renda\n",
       "74             Rondônia  Masculino     41   Parda              17   2000\n",
       "188            Rondônia  Masculino     38   Parda              17   1900\n",
       "343            Rondônia   Feminino     47  Branca              17    788\n",
       "1160           Rondônia  Masculino     26  Branca              17   1200\n",
       "1261           Rondônia   Feminino     38   Parda              17    500\n",
       "...                 ...        ...    ...     ...             ...    ...\n",
       "75844  Distrito Federal   Feminino     56   Parda              17    300\n",
       "76041  Distrito Federal   Feminino     22  Branca              17    788\n",
       "76575  Distrito Federal   Feminino     45   Preta              17   1200\n",
       "76597  Distrito Federal   Feminino     58   Preta              17   3000\n",
       "76674  Distrito Federal   Feminino     36   Parda              17   1200\n",
       "\n",
       "[191 rows x 6 columns]"
      ]
     },
     "execution_count": 61,
     "metadata": {},
     "output_type": "execute_result"
    }
   ],
   "source": [
    "df17 = dados.loc[dados['Anos de Estudo']== 17]\n",
    "df17"
   ]
  },
  {
   "cell_type": "code",
   "execution_count": null,
   "metadata": {},
   "outputs": [],
   "source": [
    "df17mean = df17.loc[dados['Anos de Estudo']== 17].mean().to_frame().reset_index().round(2)\n"
   ]
  },
  {
   "cell_type": "code",
   "execution_count": null,
   "metadata": {},
   "outputs": [
    {
     "data": {
      "text/html": [
       "<div>\n",
       "<style scoped>\n",
       "    .dataframe tbody tr th:only-of-type {\n",
       "        vertical-align: middle;\n",
       "    }\n",
       "\n",
       "    .dataframe tbody tr th {\n",
       "        vertical-align: top;\n",
       "    }\n",
       "\n",
       "    .dataframe thead th {\n",
       "        text-align: right;\n",
       "    }\n",
       "</style>\n",
       "<table border=\"1\" class=\"dataframe\">\n",
       "  <thead>\n",
       "    <tr style=\"text-align: right;\">\n",
       "      <th></th>\n",
       "      <th>index</th>\n",
       "      <th>0</th>\n",
       "    </tr>\n",
       "  </thead>\n",
       "  <tbody>\n",
       "    <tr>\n",
       "      <th>0</th>\n",
       "      <td>Idade</td>\n",
       "      <td>38.35</td>\n",
       "    </tr>\n",
       "    <tr>\n",
       "      <th>1</th>\n",
       "      <td>Anos de Estudo</td>\n",
       "      <td>17.00</td>\n",
       "    </tr>\n",
       "    <tr>\n",
       "      <th>2</th>\n",
       "      <td>Renda</td>\n",
       "      <td>1071.72</td>\n",
       "    </tr>\n",
       "  </tbody>\n",
       "</table>\n",
       "</div>"
      ],
      "text/plain": [
       "            index        0\n",
       "0           Idade    38.35\n",
       "1  Anos de Estudo    17.00\n",
       "2           Renda  1071.72"
      ]
     },
     "execution_count": 63,
     "metadata": {},
     "output_type": "execute_result"
    }
   ],
   "source": [
    "df17mean"
   ]
  },
  {
   "cell_type": "code",
   "execution_count": null,
   "metadata": {},
   "outputs": [
    {
     "data": {
      "text/html": [
       "<div>\n",
       "<style scoped>\n",
       "    .dataframe tbody tr th:only-of-type {\n",
       "        vertical-align: middle;\n",
       "    }\n",
       "\n",
       "    .dataframe tbody tr th {\n",
       "        vertical-align: top;\n",
       "    }\n",
       "\n",
       "    .dataframe thead th {\n",
       "        text-align: right;\n",
       "    }\n",
       "</style>\n",
       "<table border=\"1\" class=\"dataframe\">\n",
       "  <thead>\n",
       "    <tr style=\"text-align: right;\">\n",
       "      <th></th>\n",
       "      <th>UF</th>\n",
       "      <th>Sexo</th>\n",
       "      <th>Idade</th>\n",
       "      <th>Cor</th>\n",
       "      <th>Anos de Estudo</th>\n",
       "      <th>Renda</th>\n",
       "    </tr>\n",
       "  </thead>\n",
       "  <tbody>\n",
       "    <tr>\n",
       "      <th>343</th>\n",
       "      <td>Rondônia</td>\n",
       "      <td>Feminino</td>\n",
       "      <td>47</td>\n",
       "      <td>Branca</td>\n",
       "      <td>17</td>\n",
       "      <td>788</td>\n",
       "    </tr>\n",
       "    <tr>\n",
       "      <th>1261</th>\n",
       "      <td>Rondônia</td>\n",
       "      <td>Feminino</td>\n",
       "      <td>38</td>\n",
       "      <td>Parda</td>\n",
       "      <td>17</td>\n",
       "      <td>500</td>\n",
       "    </tr>\n",
       "    <tr>\n",
       "      <th>1610</th>\n",
       "      <td>Acre</td>\n",
       "      <td>Masculino</td>\n",
       "      <td>35</td>\n",
       "      <td>Parda</td>\n",
       "      <td>17</td>\n",
       "      <td>700</td>\n",
       "    </tr>\n",
       "    <tr>\n",
       "      <th>2336</th>\n",
       "      <td>Acre</td>\n",
       "      <td>Feminino</td>\n",
       "      <td>37</td>\n",
       "      <td>Parda</td>\n",
       "      <td>17</td>\n",
       "      <td>0</td>\n",
       "    </tr>\n",
       "    <tr>\n",
       "      <th>2887</th>\n",
       "      <td>Amazonas</td>\n",
       "      <td>Masculino</td>\n",
       "      <td>38</td>\n",
       "      <td>Parda</td>\n",
       "      <td>17</td>\n",
       "      <td>500</td>\n",
       "    </tr>\n",
       "    <tr>\n",
       "      <th>...</th>\n",
       "      <td>...</td>\n",
       "      <td>...</td>\n",
       "      <td>...</td>\n",
       "      <td>...</td>\n",
       "      <td>...</td>\n",
       "      <td>...</td>\n",
       "    </tr>\n",
       "    <tr>\n",
       "      <th>73756</th>\n",
       "      <td>Goiás</td>\n",
       "      <td>Feminino</td>\n",
       "      <td>31</td>\n",
       "      <td>Parda</td>\n",
       "      <td>17</td>\n",
       "      <td>788</td>\n",
       "    </tr>\n",
       "    <tr>\n",
       "      <th>74616</th>\n",
       "      <td>Goiás</td>\n",
       "      <td>Feminino</td>\n",
       "      <td>35</td>\n",
       "      <td>Parda</td>\n",
       "      <td>17</td>\n",
       "      <td>788</td>\n",
       "    </tr>\n",
       "    <tr>\n",
       "      <th>75779</th>\n",
       "      <td>Distrito Federal</td>\n",
       "      <td>Feminino</td>\n",
       "      <td>40</td>\n",
       "      <td>Branca</td>\n",
       "      <td>17</td>\n",
       "      <td>840</td>\n",
       "    </tr>\n",
       "    <tr>\n",
       "      <th>75844</th>\n",
       "      <td>Distrito Federal</td>\n",
       "      <td>Feminino</td>\n",
       "      <td>56</td>\n",
       "      <td>Parda</td>\n",
       "      <td>17</td>\n",
       "      <td>300</td>\n",
       "    </tr>\n",
       "    <tr>\n",
       "      <th>76041</th>\n",
       "      <td>Distrito Federal</td>\n",
       "      <td>Feminino</td>\n",
       "      <td>22</td>\n",
       "      <td>Branca</td>\n",
       "      <td>17</td>\n",
       "      <td>788</td>\n",
       "    </tr>\n",
       "  </tbody>\n",
       "</table>\n",
       "<p>106 rows × 6 columns</p>\n",
       "</div>"
      ],
      "text/plain": [
       "                     UF       Sexo  Idade     Cor  Anos de Estudo  Renda\n",
       "343            Rondônia   Feminino     47  Branca              17    788\n",
       "1261           Rondônia   Feminino     38   Parda              17    500\n",
       "1610               Acre  Masculino     35   Parda              17    700\n",
       "2336               Acre   Feminino     37   Parda              17      0\n",
       "2887           Amazonas  Masculino     38   Parda              17    500\n",
       "...                 ...        ...    ...     ...             ...    ...\n",
       "73756             Goiás   Feminino     31   Parda              17    788\n",
       "74616             Goiás   Feminino     35   Parda              17    788\n",
       "75779  Distrito Federal   Feminino     40  Branca              17    840\n",
       "75844  Distrito Federal   Feminino     56   Parda              17    300\n",
       "76041  Distrito Federal   Feminino     22  Branca              17    788\n",
       "\n",
       "[106 rows x 6 columns]"
      ]
     },
     "execution_count": 64,
     "metadata": {},
     "output_type": "execute_result"
    }
   ],
   "source": [
    "df17.loc[dados[\"Renda\"] < 1000]"
   ]
  },
  {
   "cell_type": "markdown",
   "metadata": {},
   "source": [
    "> Hipótese 2 : Aos 17 de Estudo há uma queda de renda, pois pode estar desempregada(o) e faz \"bicos\" para sobreviver. <br>\n",
    "> Para confirmar essa hipótese, seria necessário obter mais dados, como não há possibilidade essa hipótese ficára em aberto.<br>\n"
   ]
  },
  {
   "cell_type": "markdown",
   "metadata": {},
   "source": [
    "* Explorando sexos que mais estudam."
   ]
  },
  {
   "cell_type": "code",
   "execution_count": null,
   "metadata": {},
   "outputs": [
    {
     "data": {
      "image/png": "[encoded data removed]",
      "text/plain": [
       "<Figure size 864x576 with 1 Axes>"
      ]
     },
     "metadata": {},
     "output_type": "display_data"
    }
   ],
   "source": [
    "_= outlierfunc(data=dados, x='Anos de Estudo', y ='Sexo', title =\"Anos de estudo por sexo\"\n",
    "            ,ylabel='Sexo')"
   ]
  },
  {
   "cell_type": "markdown",
   "metadata": {},
   "source": [
    "> **Insight**: As mulheres tem um maior período de estudo comparado aos homens. <br>\n",
    "> * Mesmo assim, elas ganham menos. "
   ]
  },
  {
   "cell_type": "markdown",
   "metadata": {},
   "source": [
    "### 3.5 Analisando a renda por estado."
   ]
  },
  {
   "cell_type": "markdown",
   "metadata": {},
   "source": [
    "* Analisando onde os homems ganham mais."
   ]
  },
  {
   "cell_type": "code",
   "execution_count": null,
   "metadata": {},
   "outputs": [],
   "source": [
    "dfMasc = dados.query('Sexo == \"Masculino\"')"
   ]
  },
  {
   "cell_type": "code",
   "execution_count": null,
   "metadata": {},
   "outputs": [
    {
     "data": {
      "text/html": [
       "<div>\n",
       "<style scoped>\n",
       "    .dataframe tbody tr th:only-of-type {\n",
       "        vertical-align: middle;\n",
       "    }\n",
       "\n",
       "    .dataframe tbody tr th {\n",
       "        vertical-align: top;\n",
       "    }\n",
       "\n",
       "    .dataframe thead th {\n",
       "        text-align: right;\n",
       "    }\n",
       "</style>\n",
       "<table border=\"1\" class=\"dataframe\">\n",
       "  <thead>\n",
       "    <tr style=\"text-align: right;\">\n",
       "      <th></th>\n",
       "      <th>UF</th>\n",
       "      <th>Renda</th>\n",
       "    </tr>\n",
       "  </thead>\n",
       "  <tbody>\n",
       "    <tr>\n",
       "      <th>0</th>\n",
       "      <td>Distrito Federal</td>\n",
       "      <td>4863.366321</td>\n",
       "    </tr>\n",
       "    <tr>\n",
       "      <th>1</th>\n",
       "      <td>São Paulo</td>\n",
       "      <td>2947.742872</td>\n",
       "    </tr>\n",
       "    <tr>\n",
       "      <th>2</th>\n",
       "      <td>Rio de Janeiro</td>\n",
       "      <td>2777.552792</td>\n",
       "    </tr>\n",
       "    <tr>\n",
       "      <th>3</th>\n",
       "      <td>Paraná</td>\n",
       "      <td>2767.429211</td>\n",
       "    </tr>\n",
       "    <tr>\n",
       "      <th>4</th>\n",
       "      <td>Santa Catarina</td>\n",
       "      <td>2688.304121</td>\n",
       "    </tr>\n",
       "    <tr>\n",
       "      <th>5</th>\n",
       "      <td>Mato Grosso do Sul</td>\n",
       "      <td>2603.484296</td>\n",
       "    </tr>\n",
       "    <tr>\n",
       "      <th>6</th>\n",
       "      <td>Rio Grande do Sul</td>\n",
       "      <td>2488.392840</td>\n",
       "    </tr>\n",
       "    <tr>\n",
       "      <th>7</th>\n",
       "      <td>Mato Grosso</td>\n",
       "      <td>2335.347994</td>\n",
       "    </tr>\n",
       "    <tr>\n",
       "      <th>8</th>\n",
       "      <td>Minas Gerais</td>\n",
       "      <td>2283.158288</td>\n",
       "    </tr>\n",
       "    <tr>\n",
       "      <th>9</th>\n",
       "      <td>Goiás</td>\n",
       "      <td>2222.632558</td>\n",
       "    </tr>\n",
       "    <tr>\n",
       "      <th>10</th>\n",
       "      <td>Espírito Santo</td>\n",
       "      <td>2129.324226</td>\n",
       "    </tr>\n",
       "    <tr>\n",
       "      <th>11</th>\n",
       "      <td>Amapá</td>\n",
       "      <td>1930.396970</td>\n",
       "    </tr>\n",
       "    <tr>\n",
       "      <th>12</th>\n",
       "      <td>Rondônia</td>\n",
       "      <td>1921.209139</td>\n",
       "    </tr>\n",
       "    <tr>\n",
       "      <th>13</th>\n",
       "      <td>Tocantins</td>\n",
       "      <td>1912.509395</td>\n",
       "    </tr>\n",
       "    <tr>\n",
       "      <th>14</th>\n",
       "      <td>Roraima</td>\n",
       "      <td>1875.788136</td>\n",
       "    </tr>\n",
       "    <tr>\n",
       "      <th>15</th>\n",
       "      <td>Pernambuco</td>\n",
       "      <td>1664.931211</td>\n",
       "    </tr>\n",
       "    <tr>\n",
       "      <th>16</th>\n",
       "      <td>Acre</td>\n",
       "      <td>1635.342407</td>\n",
       "    </tr>\n",
       "    <tr>\n",
       "      <th>17</th>\n",
       "      <td>Bahia</td>\n",
       "      <td>1557.495271</td>\n",
       "    </tr>\n",
       "    <tr>\n",
       "      <th>18</th>\n",
       "      <td>Amazonas</td>\n",
       "      <td>1539.989460</td>\n",
       "    </tr>\n",
       "    <tr>\n",
       "      <th>19</th>\n",
       "      <td>Pará</td>\n",
       "      <td>1509.741894</td>\n",
       "    </tr>\n",
       "    <tr>\n",
       "      <th>20</th>\n",
       "      <td>Rio Grande do Norte</td>\n",
       "      <td>1459.050074</td>\n",
       "    </tr>\n",
       "    <tr>\n",
       "      <th>21</th>\n",
       "      <td>Paraíba</td>\n",
       "      <td>1364.993348</td>\n",
       "    </tr>\n",
       "    <tr>\n",
       "      <th>22</th>\n",
       "      <td>Ceará</td>\n",
       "      <td>1341.616974</td>\n",
       "    </tr>\n",
       "    <tr>\n",
       "      <th>23</th>\n",
       "      <td>Sergipe</td>\n",
       "      <td>1205.569857</td>\n",
       "    </tr>\n",
       "    <tr>\n",
       "      <th>24</th>\n",
       "      <td>Maranhão</td>\n",
       "      <td>1165.172097</td>\n",
       "    </tr>\n",
       "    <tr>\n",
       "      <th>25</th>\n",
       "      <td>Alagoas</td>\n",
       "      <td>1157.752593</td>\n",
       "    </tr>\n",
       "    <tr>\n",
       "      <th>26</th>\n",
       "      <td>Piauí</td>\n",
       "      <td>1146.710618</td>\n",
       "    </tr>\n",
       "  </tbody>\n",
       "</table>\n",
       "</div>"
      ],
      "text/plain": [
       "                     UF        Renda\n",
       "0      Distrito Federal  4863.366321\n",
       "1             São Paulo  2947.742872\n",
       "2        Rio de Janeiro  2777.552792\n",
       "3                Paraná  2767.429211\n",
       "4        Santa Catarina  2688.304121\n",
       "5    Mato Grosso do Sul  2603.484296\n",
       "6     Rio Grande do Sul  2488.392840\n",
       "7           Mato Grosso  2335.347994\n",
       "8          Minas Gerais  2283.158288\n",
       "9                 Goiás  2222.632558\n",
       "10       Espírito Santo  2129.324226\n",
       "11                Amapá  1930.396970\n",
       "12             Rondônia  1921.209139\n",
       "13            Tocantins  1912.509395\n",
       "14              Roraima  1875.788136\n",
       "15           Pernambuco  1664.931211\n",
       "16                 Acre  1635.342407\n",
       "17                Bahia  1557.495271\n",
       "18             Amazonas  1539.989460\n",
       "19                 Pará  1509.741894\n",
       "20  Rio Grande do Norte  1459.050074\n",
       "21              Paraíba  1364.993348\n",
       "22                Ceará  1341.616974\n",
       "23              Sergipe  1205.569857\n",
       "24             Maranhão  1165.172097\n",
       "25              Alagoas  1157.752593\n",
       "26                Piauí  1146.710618"
      ]
     },
     "execution_count": 67,
     "metadata": {},
     "output_type": "execute_result"
    }
   ],
   "source": [
    "dfRendaMasc = dfMasc.groupby(\"UF\").Renda.mean().sort_values(ascending=False)\n",
    "dfRendaMasc = pd.DataFrame(dfRendaMasc).reset_index()\n",
    "dfRendaMasc\n"
   ]
  },
  {
   "cell_type": "code",
   "execution_count": null,
   "metadata": {},
   "outputs": [
    {
     "data": {
      "image/png": "[encoded data removed]",
      "text/plain": [
       "<Figure size 864x576 with 1 Axes>"
      ]
     },
     "metadata": {},
     "output_type": "display_data"
    }
   ],
   "source": [
    "\n",
    "_ = barplotfunc(data=dfRendaMasc[0:5], x=\"UF\", y=\"Renda\", title=\"Renda média masculina por Estado\", \n",
    "                ylabel=\"Renda R$\")\n",
    "\n",
    "\n"
   ]
  },
  {
   "cell_type": "markdown",
   "metadata": {},
   "source": [
    "> **Insight**: O Distrito Federal é o estado que mais paga, seguido por São Paulo e Rio de Janeiro em relação aos **Homens**<br>"
   ]
  },
  {
   "cell_type": "markdown",
   "metadata": {},
   "source": [
    "* Analisando onde as mulheres ganham mais."
   ]
  },
  {
   "cell_type": "code",
   "execution_count": null,
   "metadata": {},
   "outputs": [
    {
     "data": {
      "text/html": [
       "<div>\n",
       "<style scoped>\n",
       "    .dataframe tbody tr th:only-of-type {\n",
       "        vertical-align: middle;\n",
       "    }\n",
       "\n",
       "    .dataframe tbody tr th {\n",
       "        vertical-align: top;\n",
       "    }\n",
       "\n",
       "    .dataframe thead th {\n",
       "        text-align: right;\n",
       "    }\n",
       "</style>\n",
       "<table border=\"1\" class=\"dataframe\">\n",
       "  <thead>\n",
       "    <tr style=\"text-align: right;\">\n",
       "      <th></th>\n",
       "      <th>UF</th>\n",
       "      <th>Sexo</th>\n",
       "      <th>Idade</th>\n",
       "      <th>Cor</th>\n",
       "      <th>Anos de Estudo</th>\n",
       "      <th>Renda</th>\n",
       "    </tr>\n",
       "  </thead>\n",
       "  <tbody>\n",
       "    <tr>\n",
       "      <th>0</th>\n",
       "      <td>Rondônia</td>\n",
       "      <td>Masculino</td>\n",
       "      <td>23</td>\n",
       "      <td>Parda</td>\n",
       "      <td>12</td>\n",
       "      <td>800</td>\n",
       "    </tr>\n",
       "    <tr>\n",
       "      <th>1</th>\n",
       "      <td>Rondônia</td>\n",
       "      <td>Feminino</td>\n",
       "      <td>23</td>\n",
       "      <td>Branca</td>\n",
       "      <td>12</td>\n",
       "      <td>1150</td>\n",
       "    </tr>\n",
       "    <tr>\n",
       "      <th>2</th>\n",
       "      <td>Rondônia</td>\n",
       "      <td>Feminino</td>\n",
       "      <td>35</td>\n",
       "      <td>Parda</td>\n",
       "      <td>15</td>\n",
       "      <td>880</td>\n",
       "    </tr>\n",
       "    <tr>\n",
       "      <th>3</th>\n",
       "      <td>Rondônia</td>\n",
       "      <td>Masculino</td>\n",
       "      <td>46</td>\n",
       "      <td>Branca</td>\n",
       "      <td>6</td>\n",
       "      <td>3500</td>\n",
       "    </tr>\n",
       "    <tr>\n",
       "      <th>4</th>\n",
       "      <td>Rondônia</td>\n",
       "      <td>Feminino</td>\n",
       "      <td>47</td>\n",
       "      <td>Parda</td>\n",
       "      <td>9</td>\n",
       "      <td>150</td>\n",
       "    </tr>\n",
       "    <tr>\n",
       "      <th>...</th>\n",
       "      <td>...</td>\n",
       "      <td>...</td>\n",
       "      <td>...</td>\n",
       "      <td>...</td>\n",
       "      <td>...</td>\n",
       "      <td>...</td>\n",
       "    </tr>\n",
       "    <tr>\n",
       "      <th>76835</th>\n",
       "      <td>Distrito Federal</td>\n",
       "      <td>Feminino</td>\n",
       "      <td>46</td>\n",
       "      <td>Branca</td>\n",
       "      <td>11</td>\n",
       "      <td>812</td>\n",
       "    </tr>\n",
       "    <tr>\n",
       "      <th>76836</th>\n",
       "      <td>Distrito Federal</td>\n",
       "      <td>Masculino</td>\n",
       "      <td>30</td>\n",
       "      <td>Preta</td>\n",
       "      <td>7</td>\n",
       "      <td>1500</td>\n",
       "    </tr>\n",
       "    <tr>\n",
       "      <th>76837</th>\n",
       "      <td>Distrito Federal</td>\n",
       "      <td>Masculino</td>\n",
       "      <td>32</td>\n",
       "      <td>Parda</td>\n",
       "      <td>12</td>\n",
       "      <td>1300</td>\n",
       "    </tr>\n",
       "    <tr>\n",
       "      <th>76838</th>\n",
       "      <td>Distrito Federal</td>\n",
       "      <td>Masculino</td>\n",
       "      <td>57</td>\n",
       "      <td>Parda</td>\n",
       "      <td>4</td>\n",
       "      <td>1500</td>\n",
       "    </tr>\n",
       "    <tr>\n",
       "      <th>76839</th>\n",
       "      <td>Distrito Federal</td>\n",
       "      <td>Masculino</td>\n",
       "      <td>38</td>\n",
       "      <td>Parda</td>\n",
       "      <td>4</td>\n",
       "      <td>900</td>\n",
       "    </tr>\n",
       "  </tbody>\n",
       "</table>\n",
       "<p>76840 rows × 6 columns</p>\n",
       "</div>"
      ],
      "text/plain": [
       "                     UF       Sexo  Idade     Cor  Anos de Estudo  Renda\n",
       "0              Rondônia  Masculino     23   Parda              12    800\n",
       "1              Rondônia   Feminino     23  Branca              12   1150\n",
       "2              Rondônia   Feminino     35   Parda              15    880\n",
       "3              Rondônia  Masculino     46  Branca               6   3500\n",
       "4              Rondônia   Feminino     47   Parda               9    150\n",
       "...                 ...        ...    ...     ...             ...    ...\n",
       "76835  Distrito Federal   Feminino     46  Branca              11    812\n",
       "76836  Distrito Federal  Masculino     30   Preta               7   1500\n",
       "76837  Distrito Federal  Masculino     32   Parda              12   1300\n",
       "76838  Distrito Federal  Masculino     57   Parda               4   1500\n",
       "76839  Distrito Federal  Masculino     38   Parda               4    900\n",
       "\n",
       "[76840 rows x 6 columns]"
      ]
     },
     "execution_count": 69,
     "metadata": {},
     "output_type": "execute_result"
    }
   ],
   "source": [
    "dados"
   ]
  },
  {
   "cell_type": "code",
   "execution_count": null,
   "metadata": {},
   "outputs": [
    {
     "data": {
      "text/html": [
       "<div>\n",
       "<style scoped>\n",
       "    .dataframe tbody tr th:only-of-type {\n",
       "        vertical-align: middle;\n",
       "    }\n",
       "\n",
       "    .dataframe tbody tr th {\n",
       "        vertical-align: top;\n",
       "    }\n",
       "\n",
       "    .dataframe thead th {\n",
       "        text-align: right;\n",
       "    }\n",
       "</style>\n",
       "<table border=\"1\" class=\"dataframe\">\n",
       "  <thead>\n",
       "    <tr style=\"text-align: right;\">\n",
       "      <th></th>\n",
       "      <th>UF</th>\n",
       "      <th>Sexo</th>\n",
       "      <th>Idade</th>\n",
       "      <th>Cor</th>\n",
       "      <th>Anos de Estudo</th>\n",
       "      <th>Renda</th>\n",
       "    </tr>\n",
       "  </thead>\n",
       "  <tbody>\n",
       "    <tr>\n",
       "      <th>1</th>\n",
       "      <td>Rondônia</td>\n",
       "      <td>Feminino</td>\n",
       "      <td>23</td>\n",
       "      <td>Branca</td>\n",
       "      <td>12</td>\n",
       "      <td>1150</td>\n",
       "    </tr>\n",
       "    <tr>\n",
       "      <th>2</th>\n",
       "      <td>Rondônia</td>\n",
       "      <td>Feminino</td>\n",
       "      <td>35</td>\n",
       "      <td>Parda</td>\n",
       "      <td>15</td>\n",
       "      <td>880</td>\n",
       "    </tr>\n",
       "    <tr>\n",
       "      <th>4</th>\n",
       "      <td>Rondônia</td>\n",
       "      <td>Feminino</td>\n",
       "      <td>47</td>\n",
       "      <td>Parda</td>\n",
       "      <td>9</td>\n",
       "      <td>150</td>\n",
       "    </tr>\n",
       "    <tr>\n",
       "      <th>5</th>\n",
       "      <td>Rondônia</td>\n",
       "      <td>Feminino</td>\n",
       "      <td>34</td>\n",
       "      <td>Parda</td>\n",
       "      <td>12</td>\n",
       "      <td>790</td>\n",
       "    </tr>\n",
       "    <tr>\n",
       "      <th>7</th>\n",
       "      <td>Rondônia</td>\n",
       "      <td>Feminino</td>\n",
       "      <td>60</td>\n",
       "      <td>Parda</td>\n",
       "      <td>12</td>\n",
       "      <td>1700</td>\n",
       "    </tr>\n",
       "    <tr>\n",
       "      <th>...</th>\n",
       "      <td>...</td>\n",
       "      <td>...</td>\n",
       "      <td>...</td>\n",
       "      <td>...</td>\n",
       "      <td>...</td>\n",
       "      <td>...</td>\n",
       "    </tr>\n",
       "    <tr>\n",
       "      <th>76827</th>\n",
       "      <td>Distrito Federal</td>\n",
       "      <td>Feminino</td>\n",
       "      <td>41</td>\n",
       "      <td>Branca</td>\n",
       "      <td>16</td>\n",
       "      <td>10000</td>\n",
       "    </tr>\n",
       "    <tr>\n",
       "      <th>76831</th>\n",
       "      <td>Distrito Federal</td>\n",
       "      <td>Feminino</td>\n",
       "      <td>44</td>\n",
       "      <td>Branca</td>\n",
       "      <td>16</td>\n",
       "      <td>30000</td>\n",
       "    </tr>\n",
       "    <tr>\n",
       "      <th>76832</th>\n",
       "      <td>Distrito Federal</td>\n",
       "      <td>Feminino</td>\n",
       "      <td>49</td>\n",
       "      <td>Branca</td>\n",
       "      <td>12</td>\n",
       "      <td>5000</td>\n",
       "    </tr>\n",
       "    <tr>\n",
       "      <th>76834</th>\n",
       "      <td>Distrito Federal</td>\n",
       "      <td>Feminino</td>\n",
       "      <td>35</td>\n",
       "      <td>Preta</td>\n",
       "      <td>1</td>\n",
       "      <td>1100</td>\n",
       "    </tr>\n",
       "    <tr>\n",
       "      <th>76835</th>\n",
       "      <td>Distrito Federal</td>\n",
       "      <td>Feminino</td>\n",
       "      <td>46</td>\n",
       "      <td>Branca</td>\n",
       "      <td>11</td>\n",
       "      <td>812</td>\n",
       "    </tr>\n",
       "  </tbody>\n",
       "</table>\n",
       "<p>23590 rows × 6 columns</p>\n",
       "</div>"
      ],
      "text/plain": [
       "                     UF      Sexo  Idade     Cor  Anos de Estudo  Renda\n",
       "1              Rondônia  Feminino     23  Branca              12   1150\n",
       "2              Rondônia  Feminino     35   Parda              15    880\n",
       "4              Rondônia  Feminino     47   Parda               9    150\n",
       "5              Rondônia  Feminino     34   Parda              12    790\n",
       "7              Rondônia  Feminino     60   Parda              12   1700\n",
       "...                 ...       ...    ...     ...             ...    ...\n",
       "76827  Distrito Federal  Feminino     41  Branca              16  10000\n",
       "76831  Distrito Federal  Feminino     44  Branca              16  30000\n",
       "76832  Distrito Federal  Feminino     49  Branca              12   5000\n",
       "76834  Distrito Federal  Feminino     35   Preta               1   1100\n",
       "76835  Distrito Federal  Feminino     46  Branca              11    812\n",
       "\n",
       "[23590 rows x 6 columns]"
      ]
     },
     "execution_count": 70,
     "metadata": {},
     "output_type": "execute_result"
    }
   ],
   "source": [
    "dfRendaMulheres = dados.query(\"Sexo == 'Feminino'\")\n",
    "dfRendaMulheres"
   ]
  },
  {
   "cell_type": "code",
   "execution_count": null,
   "metadata": {},
   "outputs": [],
   "source": [
    "dfRendaMulheresplot = dfRendaMulheres.groupby(\"UF\").Renda.mean().sort_values(ascending=False)\n",
    "dfRendaMulheresplot = pd.DataFrame(dfRendaMulheresplot).reset_index()\n",
    "\n"
   ]
  },
  {
   "cell_type": "code",
   "execution_count": null,
   "metadata": {},
   "outputs": [
    {
     "data": {
      "text/html": [
       "<div>\n",
       "<style scoped>\n",
       "    .dataframe tbody tr th:only-of-type {\n",
       "        vertical-align: middle;\n",
       "    }\n",
       "\n",
       "    .dataframe tbody tr th {\n",
       "        vertical-align: top;\n",
       "    }\n",
       "\n",
       "    .dataframe thead th {\n",
       "        text-align: right;\n",
       "    }\n",
       "</style>\n",
       "<table border=\"1\" class=\"dataframe\">\n",
       "  <thead>\n",
       "    <tr style=\"text-align: right;\">\n",
       "      <th></th>\n",
       "      <th>UF</th>\n",
       "      <th>Renda</th>\n",
       "    </tr>\n",
       "  </thead>\n",
       "  <tbody>\n",
       "    <tr>\n",
       "      <th>0</th>\n",
       "      <td>Distrito Federal</td>\n",
       "      <td>3269.883895</td>\n",
       "    </tr>\n",
       "    <tr>\n",
       "      <th>1</th>\n",
       "      <td>Rio de Janeiro</td>\n",
       "      <td>1971.532508</td>\n",
       "    </tr>\n",
       "    <tr>\n",
       "      <th>2</th>\n",
       "      <td>Rio Grande do Sul</td>\n",
       "      <td>1960.845376</td>\n",
       "    </tr>\n",
       "    <tr>\n",
       "      <th>3</th>\n",
       "      <td>São Paulo</td>\n",
       "      <td>1950.176471</td>\n",
       "    </tr>\n",
       "    <tr>\n",
       "      <th>4</th>\n",
       "      <td>Paraná</td>\n",
       "      <td>1796.263244</td>\n",
       "    </tr>\n",
       "    <tr>\n",
       "      <th>5</th>\n",
       "      <td>Santa Catarina</td>\n",
       "      <td>1792.114130</td>\n",
       "    </tr>\n",
       "    <tr>\n",
       "      <th>6</th>\n",
       "      <td>Espírito Santo</td>\n",
       "      <td>1752.707022</td>\n",
       "    </tr>\n",
       "    <tr>\n",
       "      <th>7</th>\n",
       "      <td>Amapá</td>\n",
       "      <td>1736.164835</td>\n",
       "    </tr>\n",
       "    <tr>\n",
       "      <th>8</th>\n",
       "      <td>Roraima</td>\n",
       "      <td>1608.112903</td>\n",
       "    </tr>\n",
       "    <tr>\n",
       "      <th>9</th>\n",
       "      <td>Mato Grosso</td>\n",
       "      <td>1604.293651</td>\n",
       "    </tr>\n",
       "    <tr>\n",
       "      <th>10</th>\n",
       "      <td>Mato Grosso do Sul</td>\n",
       "      <td>1519.891832</td>\n",
       "    </tr>\n",
       "    <tr>\n",
       "      <th>11</th>\n",
       "      <td>Minas Gerais</td>\n",
       "      <td>1489.616576</td>\n",
       "    </tr>\n",
       "    <tr>\n",
       "      <th>12</th>\n",
       "      <td>Rondônia</td>\n",
       "      <td>1414.854637</td>\n",
       "    </tr>\n",
       "    <tr>\n",
       "      <th>13</th>\n",
       "      <td>Tocantins</td>\n",
       "      <td>1381.798851</td>\n",
       "    </tr>\n",
       "    <tr>\n",
       "      <th>14</th>\n",
       "      <td>Goiás</td>\n",
       "      <td>1339.376392</td>\n",
       "    </tr>\n",
       "    <tr>\n",
       "      <th>15</th>\n",
       "      <td>Pernambuco</td>\n",
       "      <td>1252.239812</td>\n",
       "    </tr>\n",
       "    <tr>\n",
       "      <th>16</th>\n",
       "      <td>Amazonas</td>\n",
       "      <td>1235.832849</td>\n",
       "    </tr>\n",
       "    <tr>\n",
       "      <th>17</th>\n",
       "      <td>Bahia</td>\n",
       "      <td>1175.015175</td>\n",
       "    </tr>\n",
       "    <tr>\n",
       "      <th>18</th>\n",
       "      <td>Pará</td>\n",
       "      <td>1131.884114</td>\n",
       "    </tr>\n",
       "    <tr>\n",
       "      <th>19</th>\n",
       "      <td>Acre</td>\n",
       "      <td>1128.615063</td>\n",
       "    </tr>\n",
       "    <tr>\n",
       "      <th>20</th>\n",
       "      <td>Paraíba</td>\n",
       "      <td>1119.704301</td>\n",
       "    </tr>\n",
       "    <tr>\n",
       "      <th>21</th>\n",
       "      <td>Alagoas</td>\n",
       "      <td>1105.473684</td>\n",
       "    </tr>\n",
       "    <tr>\n",
       "      <th>22</th>\n",
       "      <td>Ceará</td>\n",
       "      <td>1085.795053</td>\n",
       "    </tr>\n",
       "    <tr>\n",
       "      <th>23</th>\n",
       "      <td>Rio Grande do Norte</td>\n",
       "      <td>1080.676871</td>\n",
       "    </tr>\n",
       "    <tr>\n",
       "      <th>24</th>\n",
       "      <td>Piauí</td>\n",
       "      <td>899.858757</td>\n",
       "    </tr>\n",
       "    <tr>\n",
       "      <th>25</th>\n",
       "      <td>Sergipe</td>\n",
       "      <td>877.150794</td>\n",
       "    </tr>\n",
       "    <tr>\n",
       "      <th>26</th>\n",
       "      <td>Maranhão</td>\n",
       "      <td>723.752542</td>\n",
       "    </tr>\n",
       "  </tbody>\n",
       "</table>\n",
       "</div>"
      ],
      "text/plain": [
       "                     UF        Renda\n",
       "0      Distrito Federal  3269.883895\n",
       "1        Rio de Janeiro  1971.532508\n",
       "2     Rio Grande do Sul  1960.845376\n",
       "3             São Paulo  1950.176471\n",
       "4                Paraná  1796.263244\n",
       "5        Santa Catarina  1792.114130\n",
       "6        Espírito Santo  1752.707022\n",
       "7                 Amapá  1736.164835\n",
       "8               Roraima  1608.112903\n",
       "9           Mato Grosso  1604.293651\n",
       "10   Mato Grosso do Sul  1519.891832\n",
       "11         Minas Gerais  1489.616576\n",
       "12             Rondônia  1414.854637\n",
       "13            Tocantins  1381.798851\n",
       "14                Goiás  1339.376392\n",
       "15           Pernambuco  1252.239812\n",
       "16             Amazonas  1235.832849\n",
       "17                Bahia  1175.015175\n",
       "18                 Pará  1131.884114\n",
       "19                 Acre  1128.615063\n",
       "20              Paraíba  1119.704301\n",
       "21              Alagoas  1105.473684\n",
       "22                Ceará  1085.795053\n",
       "23  Rio Grande do Norte  1080.676871\n",
       "24                Piauí   899.858757\n",
       "25              Sergipe   877.150794\n",
       "26             Maranhão   723.752542"
      ]
     },
     "execution_count": 72,
     "metadata": {},
     "output_type": "execute_result"
    }
   ],
   "source": [
    "dfRendaMulheresplot"
   ]
  },
  {
   "cell_type": "code",
   "execution_count": null,
   "metadata": {},
   "outputs": [
    {
     "data": {
      "image/png": "[encoded data removed]",
      "text/plain": [
       "<Figure size 864x576 with 1 Axes>"
      ]
     },
     "metadata": {},
     "output_type": "display_data"
    }
   ],
   "source": [
    "_= barplotfunc(data=dfRendaMulheresplot[:6], x=\"UF\", y=\"Renda\", title=\"Renda média das mulheres por Estado\", ylabel=\"Renda\")"
   ]
  },
  {
   "cell_type": "markdown",
   "metadata": {},
   "source": [
    "> Insight: O Distrito Federal é o estado que mais paga, seguido por São Paulo e Rio de Janeiro em relação as **Mulheres**<br>"
   ]
  },
  {
   "cell_type": "markdown",
   "metadata": {},
   "source": [
    "----"
   ]
  },
  {
   "cell_type": "markdown",
   "metadata": {},
   "source": [
    "## 3. Analisando renda do Destrito Federal.\n",
    "\n"
   ]
  },
  {
   "cell_type": "code",
   "execution_count": null,
   "metadata": {},
   "outputs": [
    {
     "data": {
      "text/html": [
       "<div>\n",
       "<style scoped>\n",
       "    .dataframe tbody tr th:only-of-type {\n",
       "        vertical-align: middle;\n",
       "    }\n",
       "\n",
       "    .dataframe tbody tr th {\n",
       "        vertical-align: top;\n",
       "    }\n",
       "\n",
       "    .dataframe thead th {\n",
       "        text-align: right;\n",
       "    }\n",
       "</style>\n",
       "<table border=\"1\" class=\"dataframe\">\n",
       "  <thead>\n",
       "    <tr style=\"text-align: right;\">\n",
       "      <th></th>\n",
       "      <th>UF</th>\n",
       "      <th>Sexo</th>\n",
       "      <th>Idade</th>\n",
       "      <th>Cor</th>\n",
       "      <th>Anos de Estudo</th>\n",
       "      <th>Renda</th>\n",
       "    </tr>\n",
       "  </thead>\n",
       "  <tbody>\n",
       "    <tr>\n",
       "      <th>74786</th>\n",
       "      <td>Distrito Federal</td>\n",
       "      <td>Feminino</td>\n",
       "      <td>39</td>\n",
       "      <td>Branca</td>\n",
       "      <td>16</td>\n",
       "      <td>8300</td>\n",
       "    </tr>\n",
       "    <tr>\n",
       "      <th>74787</th>\n",
       "      <td>Distrito Federal</td>\n",
       "      <td>Feminino</td>\n",
       "      <td>37</td>\n",
       "      <td>Parda</td>\n",
       "      <td>16</td>\n",
       "      <td>10000</td>\n",
       "    </tr>\n",
       "    <tr>\n",
       "      <th>74788</th>\n",
       "      <td>Distrito Federal</td>\n",
       "      <td>Masculino</td>\n",
       "      <td>46</td>\n",
       "      <td>Branca</td>\n",
       "      <td>16</td>\n",
       "      <td>14500</td>\n",
       "    </tr>\n",
       "    <tr>\n",
       "      <th>74789</th>\n",
       "      <td>Distrito Federal</td>\n",
       "      <td>Masculino</td>\n",
       "      <td>53</td>\n",
       "      <td>Parda</td>\n",
       "      <td>16</td>\n",
       "      <td>10000</td>\n",
       "    </tr>\n",
       "    <tr>\n",
       "      <th>74790</th>\n",
       "      <td>Distrito Federal</td>\n",
       "      <td>Masculino</td>\n",
       "      <td>33</td>\n",
       "      <td>Branca</td>\n",
       "      <td>16</td>\n",
       "      <td>12000</td>\n",
       "    </tr>\n",
       "    <tr>\n",
       "      <th>...</th>\n",
       "      <td>...</td>\n",
       "      <td>...</td>\n",
       "      <td>...</td>\n",
       "      <td>...</td>\n",
       "      <td>...</td>\n",
       "      <td>...</td>\n",
       "    </tr>\n",
       "    <tr>\n",
       "      <th>76835</th>\n",
       "      <td>Distrito Federal</td>\n",
       "      <td>Feminino</td>\n",
       "      <td>46</td>\n",
       "      <td>Branca</td>\n",
       "      <td>11</td>\n",
       "      <td>812</td>\n",
       "    </tr>\n",
       "    <tr>\n",
       "      <th>76836</th>\n",
       "      <td>Distrito Federal</td>\n",
       "      <td>Masculino</td>\n",
       "      <td>30</td>\n",
       "      <td>Preta</td>\n",
       "      <td>7</td>\n",
       "      <td>1500</td>\n",
       "    </tr>\n",
       "    <tr>\n",
       "      <th>76837</th>\n",
       "      <td>Distrito Federal</td>\n",
       "      <td>Masculino</td>\n",
       "      <td>32</td>\n",
       "      <td>Parda</td>\n",
       "      <td>12</td>\n",
       "      <td>1300</td>\n",
       "    </tr>\n",
       "    <tr>\n",
       "      <th>76838</th>\n",
       "      <td>Distrito Federal</td>\n",
       "      <td>Masculino</td>\n",
       "      <td>57</td>\n",
       "      <td>Parda</td>\n",
       "      <td>4</td>\n",
       "      <td>1500</td>\n",
       "    </tr>\n",
       "    <tr>\n",
       "      <th>76839</th>\n",
       "      <td>Distrito Federal</td>\n",
       "      <td>Masculino</td>\n",
       "      <td>38</td>\n",
       "      <td>Parda</td>\n",
       "      <td>4</td>\n",
       "      <td>900</td>\n",
       "    </tr>\n",
       "  </tbody>\n",
       "</table>\n",
       "<p>2054 rows × 6 columns</p>\n",
       "</div>"
      ],
      "text/plain": [
       "                     UF       Sexo  Idade     Cor  Anos de Estudo  Renda\n",
       "74786  Distrito Federal   Feminino     39  Branca              16   8300\n",
       "74787  Distrito Federal   Feminino     37   Parda              16  10000\n",
       "74788  Distrito Federal  Masculino     46  Branca              16  14500\n",
       "74789  Distrito Federal  Masculino     53   Parda              16  10000\n",
       "74790  Distrito Federal  Masculino     33  Branca              16  12000\n",
       "...                 ...        ...    ...     ...             ...    ...\n",
       "76835  Distrito Federal   Feminino     46  Branca              11    812\n",
       "76836  Distrito Federal  Masculino     30   Preta               7   1500\n",
       "76837  Distrito Federal  Masculino     32   Parda              12   1300\n",
       "76838  Distrito Federal  Masculino     57   Parda               4   1500\n",
       "76839  Distrito Federal  Masculino     38   Parda               4    900\n",
       "\n",
       "[2054 rows x 6 columns]"
      ]
     },
     "execution_count": 74,
     "metadata": {},
     "output_type": "execute_result"
    }
   ],
   "source": [
    "dfDistrito = dados[(dados.UF =='Distrito Federal')]\n",
    "dfDistrito"
   ]
  },
  {
   "cell_type": "code",
   "execution_count": null,
   "metadata": {},
   "outputs": [
    {
     "data": {
      "image/png": "[encoded data removed]",
      "text/plain": [
       "<Figure size 1080x720 with 1 Axes>"
      ]
     },
     "metadata": {},
     "output_type": "display_data"
    }
   ],
   "source": [
    "ax = sns.boxplot(x = 'Renda', data = dfDistrito, orient = 'h')\n",
    "ax.figure.set_size_inches(15, 10)"
   ]
  },
  {
   "cell_type": "markdown",
   "metadata": {},
   "source": [
    "Analisando os outliers do Distrito Federal\n"
   ]
  },
  {
   "cell_type": "code",
   "execution_count": null,
   "metadata": {},
   "outputs": [],
   "source": [
    "Q1 = dfDistrito.Renda.quantile(0.25)\n",
    "Q2 = dfDistrito.Renda.quantile(0.50)\n",
    "Q3 = dfDistrito.Renda.quantile(0.75)\n",
    "\n",
    "limite_inferior =  Q1 - 1.5 * (Q3 - Q1)\n",
    "limite_superior = Q3 + 1.5 * (Q3 - Q1)"
   ]
  },
  {
   "cell_type": "code",
   "execution_count": null,
   "metadata": {},
   "outputs": [
    {
     "data": {
      "text/plain": [
       "10846.62"
      ]
     },
     "execution_count": 77,
     "metadata": {},
     "output_type": "execute_result"
    }
   ],
   "source": [
    "limite_inferior\n",
    "limite_superior.round(2)"
   ]
  },
  {
   "cell_type": "markdown",
   "metadata": {},
   "source": [
    "Como podemos ver, o limite superior é bem alto para o padrão brasileiro. Totalizando R$ 10.846,62\n",
    "\n",
    " "
   ]
  },
  {
   "cell_type": "code",
   "execution_count": null,
   "metadata": {},
   "outputs": [
    {
     "data": {
      "text/html": [
       "<div>\n",
       "<style scoped>\n",
       "    .dataframe tbody tr th:only-of-type {\n",
       "        vertical-align: middle;\n",
       "    }\n",
       "\n",
       "    .dataframe tbody tr th {\n",
       "        vertical-align: top;\n",
       "    }\n",
       "\n",
       "    .dataframe thead th {\n",
       "        text-align: right;\n",
       "    }\n",
       "</style>\n",
       "<table border=\"1\" class=\"dataframe\">\n",
       "  <thead>\n",
       "    <tr style=\"text-align: right;\">\n",
       "      <th></th>\n",
       "      <th>Idade</th>\n",
       "      <th>Anos de Estudo</th>\n",
       "      <th>Renda</th>\n",
       "    </tr>\n",
       "  </thead>\n",
       "  <tbody>\n",
       "    <tr>\n",
       "      <th>count</th>\n",
       "      <td>2054.000000</td>\n",
       "      <td>2054.000000</td>\n",
       "      <td>2054.000000</td>\n",
       "    </tr>\n",
       "    <tr>\n",
       "      <th>mean</th>\n",
       "      <td>42.734177</td>\n",
       "      <td>11.910419</td>\n",
       "      <td>4241.954722</td>\n",
       "    </tr>\n",
       "    <tr>\n",
       "      <th>std</th>\n",
       "      <td>11.556609</td>\n",
       "      <td>4.148458</td>\n",
       "      <td>5550.463338</td>\n",
       "    </tr>\n",
       "    <tr>\n",
       "      <th>min</th>\n",
       "      <td>17.000000</td>\n",
       "      <td>1.000000</td>\n",
       "      <td>0.000000</td>\n",
       "    </tr>\n",
       "    <tr>\n",
       "      <th>25%</th>\n",
       "      <td>34.000000</td>\n",
       "      <td>9.000000</td>\n",
       "      <td>1102.250000</td>\n",
       "    </tr>\n",
       "    <tr>\n",
       "      <th>50%</th>\n",
       "      <td>42.000000</td>\n",
       "      <td>12.000000</td>\n",
       "      <td>2000.000000</td>\n",
       "    </tr>\n",
       "    <tr>\n",
       "      <th>75%</th>\n",
       "      <td>51.000000</td>\n",
       "      <td>16.000000</td>\n",
       "      <td>5000.000000</td>\n",
       "    </tr>\n",
       "    <tr>\n",
       "      <th>max</th>\n",
       "      <td>81.000000</td>\n",
       "      <td>17.000000</td>\n",
       "      <td>100000.000000</td>\n",
       "    </tr>\n",
       "  </tbody>\n",
       "</table>\n",
       "</div>"
      ],
      "text/plain": [
       "             Idade  Anos de Estudo          Renda\n",
       "count  2054.000000     2054.000000    2054.000000\n",
       "mean     42.734177       11.910419    4241.954722\n",
       "std      11.556609        4.148458    5550.463338\n",
       "min      17.000000        1.000000       0.000000\n",
       "25%      34.000000        9.000000    1102.250000\n",
       "50%      42.000000       12.000000    2000.000000\n",
       "75%      51.000000       16.000000    5000.000000\n",
       "max      81.000000       17.000000  100000.000000"
      ]
     },
     "execution_count": 78,
     "metadata": {},
     "output_type": "execute_result"
    }
   ],
   "source": [
    "dfDistrito.describe()"
   ]
  },
  {
   "cell_type": "markdown",
   "metadata": {},
   "source": [
    "----"
   ]
  },
  {
   "cell_type": "markdown",
   "metadata": {},
   "source": [
    "## 5. Analisando anos de estudo por Estado."
   ]
  },
  {
   "cell_type": "code",
   "execution_count": null,
   "metadata": {},
   "outputs": [
    {
     "data": {
      "text/html": [
       "<div>\n",
       "<style scoped>\n",
       "    .dataframe tbody tr th:only-of-type {\n",
       "        vertical-align: middle;\n",
       "    }\n",
       "\n",
       "    .dataframe tbody tr th {\n",
       "        vertical-align: top;\n",
       "    }\n",
       "\n",
       "    .dataframe thead th {\n",
       "        text-align: right;\n",
       "    }\n",
       "</style>\n",
       "<table border=\"1\" class=\"dataframe\">\n",
       "  <thead>\n",
       "    <tr style=\"text-align: right;\">\n",
       "      <th></th>\n",
       "      <th>UF</th>\n",
       "      <th>Anos de Estudo</th>\n",
       "    </tr>\n",
       "  </thead>\n",
       "  <tbody>\n",
       "    <tr>\n",
       "      <th>0</th>\n",
       "      <td>Acre</td>\n",
       "      <td>8.398079</td>\n",
       "    </tr>\n",
       "    <tr>\n",
       "      <th>1</th>\n",
       "      <td>Alagoas</td>\n",
       "      <td>7.838317</td>\n",
       "    </tr>\n",
       "    <tr>\n",
       "      <th>2</th>\n",
       "      <td>Amapá</td>\n",
       "      <td>10.050781</td>\n",
       "    </tr>\n",
       "    <tr>\n",
       "      <th>3</th>\n",
       "      <td>Amazonas</td>\n",
       "      <td>9.361741</td>\n",
       "    </tr>\n",
       "    <tr>\n",
       "      <th>4</th>\n",
       "      <td>Bahia</td>\n",
       "      <td>8.725730</td>\n",
       "    </tr>\n",
       "    <tr>\n",
       "      <th>5</th>\n",
       "      <td>Ceará</td>\n",
       "      <td>8.665079</td>\n",
       "    </tr>\n",
       "    <tr>\n",
       "      <th>6</th>\n",
       "      <td>Distrito Federal</td>\n",
       "      <td>11.910419</td>\n",
       "    </tr>\n",
       "    <tr>\n",
       "      <th>7</th>\n",
       "      <td>Espírito Santo</td>\n",
       "      <td>9.466578</td>\n",
       "    </tr>\n",
       "    <tr>\n",
       "      <th>8</th>\n",
       "      <td>Goiás</td>\n",
       "      <td>9.435883</td>\n",
       "    </tr>\n",
       "    <tr>\n",
       "      <th>9</th>\n",
       "      <td>Maranhão</td>\n",
       "      <td>7.518747</td>\n",
       "    </tr>\n",
       "    <tr>\n",
       "      <th>10</th>\n",
       "      <td>Mato Grosso</td>\n",
       "      <td>9.472778</td>\n",
       "    </tr>\n",
       "    <tr>\n",
       "      <th>11</th>\n",
       "      <td>Mato Grosso do Sul</td>\n",
       "      <td>9.509028</td>\n",
       "    </tr>\n",
       "    <tr>\n",
       "      <th>12</th>\n",
       "      <td>Minas Gerais</td>\n",
       "      <td>9.129846</td>\n",
       "    </tr>\n",
       "    <tr>\n",
       "      <th>13</th>\n",
       "      <td>Paraná</td>\n",
       "      <td>10.084252</td>\n",
       "    </tr>\n",
       "    <tr>\n",
       "      <th>14</th>\n",
       "      <td>Paraíba</td>\n",
       "      <td>8.165620</td>\n",
       "    </tr>\n",
       "    <tr>\n",
       "      <th>15</th>\n",
       "      <td>Pará</td>\n",
       "      <td>8.672286</td>\n",
       "    </tr>\n",
       "    <tr>\n",
       "      <th>16</th>\n",
       "      <td>Pernambuco</td>\n",
       "      <td>9.214921</td>\n",
       "    </tr>\n",
       "    <tr>\n",
       "      <th>17</th>\n",
       "      <td>Piauí</td>\n",
       "      <td>7.014038</td>\n",
       "    </tr>\n",
       "    <tr>\n",
       "      <th>18</th>\n",
       "      <td>Rio Grande do Norte</td>\n",
       "      <td>8.823227</td>\n",
       "    </tr>\n",
       "    <tr>\n",
       "      <th>19</th>\n",
       "      <td>Rio Grande do Sul</td>\n",
       "      <td>10.104556</td>\n",
       "    </tr>\n",
       "    <tr>\n",
       "      <th>20</th>\n",
       "      <td>Rio de Janeiro</td>\n",
       "      <td>10.547516</td>\n",
       "    </tr>\n",
       "    <tr>\n",
       "      <th>21</th>\n",
       "      <td>Rondônia</td>\n",
       "      <td>8.811971</td>\n",
       "    </tr>\n",
       "    <tr>\n",
       "      <th>22</th>\n",
       "      <td>Roraima</td>\n",
       "      <td>9.916667</td>\n",
       "    </tr>\n",
       "    <tr>\n",
       "      <th>23</th>\n",
       "      <td>Santa Catarina</td>\n",
       "      <td>10.226813</td>\n",
       "    </tr>\n",
       "    <tr>\n",
       "      <th>24</th>\n",
       "      <td>Sergipe</td>\n",
       "      <td>7.337995</td>\n",
       "    </tr>\n",
       "    <tr>\n",
       "      <th>25</th>\n",
       "      <td>São Paulo</td>\n",
       "      <td>10.639045</td>\n",
       "    </tr>\n",
       "    <tr>\n",
       "      <th>26</th>\n",
       "      <td>Tocantins</td>\n",
       "      <td>9.027565</td>\n",
       "    </tr>\n",
       "  </tbody>\n",
       "</table>\n",
       "</div>"
      ],
      "text/plain": [
       "                     UF  Anos de Estudo\n",
       "0                  Acre        8.398079\n",
       "1               Alagoas        7.838317\n",
       "2                 Amapá       10.050781\n",
       "3              Amazonas        9.361741\n",
       "4                 Bahia        8.725730\n",
       "5                 Ceará        8.665079\n",
       "6      Distrito Federal       11.910419\n",
       "7        Espírito Santo        9.466578\n",
       "8                 Goiás        9.435883\n",
       "9              Maranhão        7.518747\n",
       "10          Mato Grosso        9.472778\n",
       "11   Mato Grosso do Sul        9.509028\n",
       "12         Minas Gerais        9.129846\n",
       "13               Paraná       10.084252\n",
       "14              Paraíba        8.165620\n",
       "15                 Pará        8.672286\n",
       "16           Pernambuco        9.214921\n",
       "17                Piauí        7.014038\n",
       "18  Rio Grande do Norte        8.823227\n",
       "19    Rio Grande do Sul       10.104556\n",
       "20       Rio de Janeiro       10.547516\n",
       "21             Rondônia        8.811971\n",
       "22              Roraima        9.916667\n",
       "23       Santa Catarina       10.226813\n",
       "24              Sergipe        7.337995\n",
       "25            São Paulo       10.639045\n",
       "26            Tocantins        9.027565"
      ]
     },
     "execution_count": 79,
     "metadata": {},
     "output_type": "execute_result"
    }
   ],
   "source": [
    "dfEstudos = dados.groupby(['UF'])['Anos de Estudo'].mean().to_frame().reset_index()\n",
    "dfEstudos"
   ]
  },
  {
   "cell_type": "code",
   "execution_count": null,
   "metadata": {},
   "outputs": [],
   "source": [
    "dfEstudos = dfEstudos.sort_values(by = 'Anos de Estudo', ascending = False)"
   ]
  },
  {
   "cell_type": "code",
   "execution_count": null,
   "metadata": {},
   "outputs": [
    {
     "data": {
      "image/png": "[encoded data removed]",
      "text/plain": [
       "<Figure size 864x576 with 1 Axes>"
      ]
     },
     "metadata": {},
     "output_type": "display_data"
    }
   ],
   "source": [
    "_=barplotfunc(data=dfEstudos[0:6], x=\"UF\", y=\"Anos de Estudo\", title=\"Anos de estudo por Estado\", ylabel=\"Anos de Estudo\")"
   ]
  },
  {
   "cell_type": "markdown",
   "metadata": {},
   "source": [
    "> Insight: O Distrito Federal é o estado que contém os estudantes que dedicam mais anos ao estudos, seguido por São Paulo e Rio de Janeiro. <br>"
   ]
  },
  {
   "cell_type": "markdown",
   "metadata": {},
   "source": [
    "# 4. Conclusão"
   ]
  },
  {
   "cell_type": "markdown",
   "metadata": {},
   "source": [
    "### 4.1 Insights:\n",
    "Esse projeto foi uma exploração dos dados para buscar insights sobre salários.\n",
    "\n",
    "    "
   ]
  },
  {
   "cell_type": "markdown",
   "metadata": {},
   "source": [
    "* A classe mais populosa é a E. Lembrando que essa classe pertence aos trabalhadores **2 salários mínimos. Na época o salário minímo era de 788,00 reais.**\n",
    "* No ano dde 2015, acima de **3.818,00** já erá considerado valores 'descrepantes' para a sociedade brasileira.\n",
    "* Os homens tem uma renda maior (média) que as mulheres.Renda de até **3.818,00**\n",
    "* Analisado todo o dados, sem filtragem de renda até 3818,00. Os homens ganham **40%** a mais que as mulheres em 2015.\n",
    "* A uma correlação modearada (0.69) entre anos de estudo e renda. Quanto mais anos de estudo, maior a renda.\n",
    "* As mulheres **estudam mais** que os homens, quantidades de anos, e **ganham menos**\n",
    "* O Destrito Federal contém a **maior média** de salário para ambos os sexos **Masculino e Feminino**.\n",
    "* No Distrito Federal há uma **média** de:\n",
    "\t* 42 anos de idade;\n",
    "    * 12 anos de estudo;\n",
    "    * 4.242,00 de renda \n",
    "* No Distrito Federal contém as pessoas que estudam por mais tempo."
   ]
  },
  {
   "cell_type": "markdown",
   "metadata": {},
   "source": [
    "### 4.2 Hipóteses.\n",
    "Para essa análise, foram levantadas as seguintes hipóteses:\n",
    "\n",
    "**Hipótese 1** : Aos 17 de Estudo há uma queda de renda, pois pode estar desempregada(o) e faz \"bicos\" para sobreviver. <br>\n",
    "* Para confirmar essa hipótese, seria necessário obter mais dados, como não há possibilidade essa hipótese ficára em aberto"
   ]
  },
  {
   "cell_type": "code",
   "execution_count": null,
   "metadata": {},
   "outputs": [],
   "source": []
  }
 ],
 "metadata": {
  "kernelspec": {
   "display_name": "Python 3 (ipykernel)",
   "language": "python",
   "name": "python3"
  },
  "language_info": {
   "codemirror_mode": {
    "name": "ipython",
    "version": 3
   },
   "file_extension": ".py",
   "mimetype": "text/x-python",
   "name": "python",
   "nbconvert_exporter": "python",
   "pygments_lexer": "ipython3",
   "version": "3.9.12"
  },
  "vscode": {
   "interpreter": {
    "hash": "ad4078168b69d66fe05634f3b7be757ef4015f974a20b20ffdc4b2de487ad266"
   }
  }
 },
 "nbformat": 4,
 "nbformat_minor": 4
}
